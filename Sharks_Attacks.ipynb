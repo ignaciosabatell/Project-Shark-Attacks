{
  "cells": [
    {
      "cell_type": "code",
      "execution_count": 593,
      "metadata": {
        "id": "I9d278dhJ68r"
      },
      "outputs": [],
      "source": [
        "import pandas as pd\n",
        "import numpy as np"
      ]
    },
    {
      "cell_type": "code",
      "execution_count": 594,
      "metadata": {
        "id": "ytOupRzcMcXZ"
      },
      "outputs": [],
      "source": [
        "\n",
        "url = \"https://www.sharkattackfile.net/spreadsheets/GSAF5.xls\"\n",
        "df = pd.read_excel(url)"
      ]
    },
    {
      "cell_type": "code",
      "execution_count": 595,
      "metadata": {
        "colab": {
          "base_uri": "https://localhost:8080/",
          "height": 409
        },
        "id": "Ogf7rrNDO2z4",
        "outputId": "cb05c70d-649a-4d71-f219-08693f28b126"
      },
      "outputs": [
        {
          "data": {
            "text/html": [
              "<div>\n",
              "<style scoped>\n",
              "    .dataframe tbody tr th:only-of-type {\n",
              "        vertical-align: middle;\n",
              "    }\n",
              "\n",
              "    .dataframe tbody tr th {\n",
              "        vertical-align: top;\n",
              "    }\n",
              "\n",
              "    .dataframe thead th {\n",
              "        text-align: right;\n",
              "    }\n",
              "</style>\n",
              "<table border=\"1\" class=\"dataframe\">\n",
              "  <thead>\n",
              "    <tr style=\"text-align: right;\">\n",
              "      <th></th>\n",
              "      <th>Date</th>\n",
              "      <th>Year</th>\n",
              "      <th>Type</th>\n",
              "      <th>Country</th>\n",
              "      <th>State</th>\n",
              "      <th>Location</th>\n",
              "      <th>Activity</th>\n",
              "      <th>Name</th>\n",
              "      <th>Sex</th>\n",
              "      <th>Age</th>\n",
              "      <th>...</th>\n",
              "      <th>Species</th>\n",
              "      <th>Source</th>\n",
              "      <th>pdf</th>\n",
              "      <th>href formula</th>\n",
              "      <th>href</th>\n",
              "      <th>Case Number</th>\n",
              "      <th>Case Number.1</th>\n",
              "      <th>original order</th>\n",
              "      <th>Unnamed: 21</th>\n",
              "      <th>Unnamed: 22</th>\n",
              "    </tr>\n",
              "  </thead>\n",
              "  <tbody>\n",
              "    <tr>\n",
              "      <th>0</th>\n",
              "      <td>11th October</td>\n",
              "      <td>2025.0</td>\n",
              "      <td>Unprovoked</td>\n",
              "      <td>Australia</td>\n",
              "      <td>Queensland</td>\n",
              "      <td>Cook Esplanade Thursday Island</td>\n",
              "      <td>Fishing/swimming</td>\n",
              "      <td>Samuel Nai</td>\n",
              "      <td>M</td>\n",
              "      <td>14</td>\n",
              "      <td>...</td>\n",
              "      <td>Tiger or Bull shark</td>\n",
              "      <td>Kevin McMurray Trackingsharks.com</td>\n",
              "      <td>NaN</td>\n",
              "      <td>NaN</td>\n",
              "      <td>NaN</td>\n",
              "      <td>NaN</td>\n",
              "      <td>NaN</td>\n",
              "      <td>NaN</td>\n",
              "      <td>NaN</td>\n",
              "      <td>NaN</td>\n",
              "    </tr>\n",
              "    <tr>\n",
              "      <th>1</th>\n",
              "      <td>7th October</td>\n",
              "      <td>2025.0</td>\n",
              "      <td>Unprovoked</td>\n",
              "      <td>Australia</td>\n",
              "      <td>South Australia</td>\n",
              "      <td>Kangaroo Island</td>\n",
              "      <td>Surfing</td>\n",
              "      <td>Lee Berryman</td>\n",
              "      <td>M</td>\n",
              "      <td>50+</td>\n",
              "      <td>...</td>\n",
              "      <td>Bronze whaler?</td>\n",
              "      <td>Kevin McMurray Trackingsharks.com</td>\n",
              "      <td>NaN</td>\n",
              "      <td>NaN</td>\n",
              "      <td>NaN</td>\n",
              "      <td>NaN</td>\n",
              "      <td>NaN</td>\n",
              "      <td>NaN</td>\n",
              "      <td>NaN</td>\n",
              "      <td>NaN</td>\n",
              "    </tr>\n",
              "    <tr>\n",
              "      <th>2</th>\n",
              "      <td>29th September</td>\n",
              "      <td>2025.0</td>\n",
              "      <td>Unprovoked</td>\n",
              "      <td>USA</td>\n",
              "      <td>Off California</td>\n",
              "      <td>Catalina Island</td>\n",
              "      <td>Swimming</td>\n",
              "      <td>Christopher Murray</td>\n",
              "      <td>M</td>\n",
              "      <td>54</td>\n",
              "      <td>...</td>\n",
              "      <td>unknown 1.2m shark</td>\n",
              "      <td>Todd Smith: Kevin McMurray Trackingsharks.com</td>\n",
              "      <td>NaN</td>\n",
              "      <td>NaN</td>\n",
              "      <td>NaN</td>\n",
              "      <td>NaN</td>\n",
              "      <td>NaN</td>\n",
              "      <td>NaN</td>\n",
              "      <td>NaN</td>\n",
              "      <td>NaN</td>\n",
              "    </tr>\n",
              "    <tr>\n",
              "      <th>3</th>\n",
              "      <td>27th September</td>\n",
              "      <td>2025.0</td>\n",
              "      <td>Provoked</td>\n",
              "      <td>Costa Rica</td>\n",
              "      <td>NaN</td>\n",
              "      <td>Cocos Islands</td>\n",
              "      <td>Diving-Tagging sharks</td>\n",
              "      <td>Dr. Mauricio Hoyos</td>\n",
              "      <td>M</td>\n",
              "      <td>48</td>\n",
              "      <td>...</td>\n",
              "      <td>Tiger shark 4m</td>\n",
              "      <td>Todd Smith: Kevin McMurray Trackingsharks.com</td>\n",
              "      <td>NaN</td>\n",
              "      <td>NaN</td>\n",
              "      <td>NaN</td>\n",
              "      <td>NaN</td>\n",
              "      <td>NaN</td>\n",
              "      <td>NaN</td>\n",
              "      <td>NaN</td>\n",
              "      <td>NaN</td>\n",
              "    </tr>\n",
              "    <tr>\n",
              "      <th>4</th>\n",
              "      <td>6th September</td>\n",
              "      <td>2025.0</td>\n",
              "      <td>Unprovoked</td>\n",
              "      <td>Australia</td>\n",
              "      <td>NSW</td>\n",
              "      <td>Long Reef Sydney</td>\n",
              "      <td>Surfing</td>\n",
              "      <td>Mercury Psillaskis</td>\n",
              "      <td>M</td>\n",
              "      <td>57</td>\n",
              "      <td>...</td>\n",
              "      <td>Great White Shark</td>\n",
              "      <td>Todd Smith: Andy Currie: Simon De Marchi: Kevi...</td>\n",
              "      <td>NaN</td>\n",
              "      <td>NaN</td>\n",
              "      <td>NaN</td>\n",
              "      <td>NaN</td>\n",
              "      <td>NaN</td>\n",
              "      <td>NaN</td>\n",
              "      <td>NaN</td>\n",
              "      <td>NaN</td>\n",
              "    </tr>\n",
              "  </tbody>\n",
              "</table>\n",
              "<p>5 rows × 23 columns</p>\n",
              "</div>"
            ],
            "text/plain": [
              "             Date    Year        Type     Country            State  \\\n",
              "0    11th October  2025.0  Unprovoked   Australia       Queensland   \n",
              "1     7th October  2025.0  Unprovoked   Australia  South Australia   \n",
              "2  29th September  2025.0  Unprovoked         USA   Off California   \n",
              "3  27th September  2025.0    Provoked  Costa Rica              NaN   \n",
              "4   6th September  2025.0  Unprovoked   Australia              NSW   \n",
              "\n",
              "                         Location               Activity                Name  \\\n",
              "0  Cook Esplanade Thursday Island       Fishing/swimming          Samuel Nai   \n",
              "1                 Kangaroo Island                Surfing        Lee Berryman   \n",
              "2                 Catalina Island               Swimming  Christopher Murray   \n",
              "3                   Cocos Islands  Diving-Tagging sharks  Dr. Mauricio Hoyos   \n",
              "4                Long Reef Sydney                Surfing  Mercury Psillaskis   \n",
              "\n",
              "  Sex  Age  ...             Species   \\\n",
              "0   M   14  ...  Tiger or Bull shark   \n",
              "1   M  50+  ...       Bronze whaler?   \n",
              "2   M   54  ...   unknown 1.2m shark   \n",
              "3   M   48  ...       Tiger shark 4m   \n",
              "4   M   57  ...    Great White Shark   \n",
              "\n",
              "                                              Source  pdf href formula href  \\\n",
              "0                  Kevin McMurray Trackingsharks.com  NaN          NaN  NaN   \n",
              "1                  Kevin McMurray Trackingsharks.com  NaN          NaN  NaN   \n",
              "2      Todd Smith: Kevin McMurray Trackingsharks.com  NaN          NaN  NaN   \n",
              "3      Todd Smith: Kevin McMurray Trackingsharks.com  NaN          NaN  NaN   \n",
              "4  Todd Smith: Andy Currie: Simon De Marchi: Kevi...  NaN          NaN  NaN   \n",
              "\n",
              "  Case Number Case Number.1 original order Unnamed: 21 Unnamed: 22  \n",
              "0         NaN           NaN            NaN         NaN         NaN  \n",
              "1         NaN           NaN            NaN         NaN         NaN  \n",
              "2         NaN           NaN            NaN         NaN         NaN  \n",
              "3         NaN           NaN            NaN         NaN         NaN  \n",
              "4         NaN           NaN            NaN         NaN         NaN  \n",
              "\n",
              "[5 rows x 23 columns]"
            ]
          },
          "execution_count": 595,
          "metadata": {},
          "output_type": "execute_result"
        }
      ],
      "source": [
        "df.head()"
      ]
    },
    {
      "cell_type": "code",
      "execution_count": 596,
      "metadata": {
        "colab": {
          "base_uri": "https://localhost:8080/"
        },
        "id": "dswl0DYdQULn",
        "outputId": "97dc77e1-2f3d-4335-dc22-93324bb5b86a"
      },
      "outputs": [
        {
          "name": "stdout",
          "output_type": "stream",
          "text": [
            "<class 'pandas.core.frame.DataFrame'>\n",
            "RangeIndex: 7049 entries, 0 to 7048\n",
            "Data columns (total 23 columns):\n",
            " #   Column          Non-Null Count  Dtype  \n",
            "---  ------          --------------  -----  \n",
            " 0   Date            7049 non-null   object \n",
            " 1   Year            7047 non-null   float64\n",
            " 2   Type            7031 non-null   object \n",
            " 3   Country         6999 non-null   object \n",
            " 4   State           6563 non-null   object \n",
            " 5   Location        6482 non-null   object \n",
            " 6   Activity        6464 non-null   object \n",
            " 7   Name            6830 non-null   object \n",
            " 8   Sex             6470 non-null   object \n",
            " 9   Age             4055 non-null   object \n",
            " 10  Injury          7014 non-null   object \n",
            " 11  Fatal Y/N       6488 non-null   object \n",
            " 12  Time            3523 non-null   object \n",
            " 13  Species         3918 non-null   object \n",
            " 14  Source          7029 non-null   object \n",
            " 15  pdf             6799 non-null   object \n",
            " 16  href formula    6794 non-null   object \n",
            " 17  href            6796 non-null   object \n",
            " 18  Case Number     6798 non-null   object \n",
            " 19  Case Number.1   6797 non-null   object \n",
            " 20  original order  6799 non-null   float64\n",
            " 21  Unnamed: 21     1 non-null      object \n",
            " 22  Unnamed: 22     2 non-null      object \n",
            "dtypes: float64(2), object(21)\n",
            "memory usage: 1.2+ MB\n"
          ]
        }
      ],
      "source": [
        "df.info()"
      ]
    },
    {
      "cell_type": "code",
      "execution_count": 597,
      "metadata": {
        "colab": {
          "base_uri": "https://localhost:8080/"
        },
        "id": "7SLcSdMqZEik",
        "outputId": "6ccbb69a-560a-4303-d214-ef88b22de576"
      },
      "outputs": [
        {
          "data": {
            "text/plain": [
              "(7049, 23)"
            ]
          },
          "execution_count": 597,
          "metadata": {},
          "output_type": "execute_result"
        }
      ],
      "source": [
        "df.shape"
      ]
    },
    {
      "cell_type": "code",
      "execution_count": 598,
      "metadata": {
        "colab": {
          "base_uri": "https://localhost:8080/"
        },
        "id": "A9wIWksoQd__",
        "outputId": "296eb8f9-8bd9-42ad-ca62-8aa27842887b"
      },
      "outputs": [
        {
          "data": {
            "text/plain": [
              "Index(['Date', 'Year', 'Type', 'Country', 'State', 'Location', 'Activity',\n",
              "       'Name', 'Sex', 'Age', 'Injury', 'Fatal Y/N', 'Time', 'Species ',\n",
              "       'Source', 'pdf', 'href formula', 'href', 'Case Number', 'Case Number.1',\n",
              "       'original order', 'Unnamed: 21', 'Unnamed: 22'],\n",
              "      dtype='object')"
            ]
          },
          "execution_count": 598,
          "metadata": {},
          "output_type": "execute_result"
        }
      ],
      "source": [
        "df.columns"
      ]
    },
    {
      "cell_type": "code",
      "execution_count": 599,
      "metadata": {
        "colab": {
          "base_uri": "https://localhost:8080/"
        },
        "id": "Ru1VQQ4rfBTN",
        "outputId": "7b3eabc5-2a95-48d5-e117-f4c01e7af2b6"
      },
      "outputs": [
        {
          "name": "stdout",
          "output_type": "stream",
          "text": [
            "Columnas eliminadas.\n"
          ]
        }
      ],
      "source": [
        "columnas_eliminadas = ['State', 'Location', 'Name', 'Injury', 'Time', 'Year','Source','pdf', 'href formula', 'href',\n",
        "       'Case Number.1', 'Case Number.2', 'original order', 'Unnamed: 22',\n",
        "       'Unnamed: 23', 'Case Number', 'Unnamed: 21']\n",
        "\n",
        "for col in columnas_eliminadas:\n",
        "    if col in df.columns:\n",
        "        df.drop(col, axis=1, inplace=True)\n",
        "\n",
        "print(\"Columnas eliminadas.\")"
      ]
    },
    {
      "cell_type": "code",
      "execution_count": 600,
      "metadata": {
        "colab": {
          "base_uri": "https://localhost:8080/"
        },
        "id": "RWiEyZn7fj8V",
        "outputId": "19ef1781-2449-47e3-d059-2ecc38e9df5e"
      },
      "outputs": [
        {
          "name": "stdout",
          "output_type": "stream",
          "text": [
            "Duplicados eliminados. Filas restantes: 7021\n"
          ]
        }
      ],
      "source": [
        "df = df.drop_duplicates()\n",
        "print(\"Duplicados eliminados. Filas restantes:\", df.shape[0])"
      ]
    },
    {
      "cell_type": "code",
      "execution_count": 601,
      "metadata": {
        "colab": {
          "base_uri": "https://localhost:8080/"
        },
        "id": "WJ_436bnfwIN",
        "outputId": "a7ae8f20-dab9-4437-9ccf-7917b061b472"
      },
      "outputs": [
        {
          "name": "stdout",
          "output_type": "stream",
          "text": [
            "Filas completamente vacías eliminadas.\n"
          ]
        }
      ],
      "source": [
        "df = df.dropna(how=\"all\")\n",
        "print(\"Filas completamente vacías eliminadas.\")"
      ]
    },
    {
      "cell_type": "code",
      "execution_count": 602,
      "metadata": {
        "colab": {
          "base_uri": "https://localhost:8080/",
          "height": 206
        },
        "id": "yEjNksrWie7E",
        "outputId": "5232bce7-59fd-469f-871f-fcb933f7c4b5"
      },
      "outputs": [
        {
          "data": {
            "text/html": [
              "<div>\n",
              "<style scoped>\n",
              "    .dataframe tbody tr th:only-of-type {\n",
              "        vertical-align: middle;\n",
              "    }\n",
              "\n",
              "    .dataframe tbody tr th {\n",
              "        vertical-align: top;\n",
              "    }\n",
              "\n",
              "    .dataframe thead th {\n",
              "        text-align: right;\n",
              "    }\n",
              "</style>\n",
              "<table border=\"1\" class=\"dataframe\">\n",
              "  <thead>\n",
              "    <tr style=\"text-align: right;\">\n",
              "      <th></th>\n",
              "      <th>Date</th>\n",
              "      <th>Type</th>\n",
              "      <th>Country</th>\n",
              "      <th>Activity</th>\n",
              "      <th>Sex</th>\n",
              "      <th>Age</th>\n",
              "      <th>Fatal Y/N</th>\n",
              "      <th>Species</th>\n",
              "    </tr>\n",
              "  </thead>\n",
              "  <tbody>\n",
              "    <tr>\n",
              "      <th>0</th>\n",
              "      <td>11th October</td>\n",
              "      <td>Unprovoked</td>\n",
              "      <td>Australia</td>\n",
              "      <td>Fishing/swimming</td>\n",
              "      <td>M</td>\n",
              "      <td>14</td>\n",
              "      <td>N</td>\n",
              "      <td>Tiger or Bull shark</td>\n",
              "    </tr>\n",
              "    <tr>\n",
              "      <th>1</th>\n",
              "      <td>7th October</td>\n",
              "      <td>Unprovoked</td>\n",
              "      <td>Australia</td>\n",
              "      <td>Surfing</td>\n",
              "      <td>M</td>\n",
              "      <td>50+</td>\n",
              "      <td>N</td>\n",
              "      <td>Bronze whaler?</td>\n",
              "    </tr>\n",
              "    <tr>\n",
              "      <th>2</th>\n",
              "      <td>29th September</td>\n",
              "      <td>Unprovoked</td>\n",
              "      <td>USA</td>\n",
              "      <td>Swimming</td>\n",
              "      <td>M</td>\n",
              "      <td>54</td>\n",
              "      <td>N</td>\n",
              "      <td>unknown 1.2m shark</td>\n",
              "    </tr>\n",
              "    <tr>\n",
              "      <th>3</th>\n",
              "      <td>27th September</td>\n",
              "      <td>Provoked</td>\n",
              "      <td>Costa Rica</td>\n",
              "      <td>Diving-Tagging sharks</td>\n",
              "      <td>M</td>\n",
              "      <td>48</td>\n",
              "      <td>N</td>\n",
              "      <td>Tiger shark 4m</td>\n",
              "    </tr>\n",
              "    <tr>\n",
              "      <th>4</th>\n",
              "      <td>6th September</td>\n",
              "      <td>Unprovoked</td>\n",
              "      <td>Australia</td>\n",
              "      <td>Surfing</td>\n",
              "      <td>M</td>\n",
              "      <td>57</td>\n",
              "      <td>Y</td>\n",
              "      <td>Great White Shark</td>\n",
              "    </tr>\n",
              "  </tbody>\n",
              "</table>\n",
              "</div>"
            ],
            "text/plain": [
              "             Date        Type     Country               Activity Sex  Age  \\\n",
              "0    11th October  Unprovoked   Australia       Fishing/swimming   M   14   \n",
              "1     7th October  Unprovoked   Australia                Surfing   M  50+   \n",
              "2  29th September  Unprovoked         USA               Swimming   M   54   \n",
              "3  27th September    Provoked  Costa Rica  Diving-Tagging sharks   M   48   \n",
              "4   6th September  Unprovoked   Australia                Surfing   M   57   \n",
              "\n",
              "  Fatal Y/N             Species   \n",
              "0         N  Tiger or Bull shark  \n",
              "1         N       Bronze whaler?  \n",
              "2         N   unknown 1.2m shark  \n",
              "3         N       Tiger shark 4m  \n",
              "4         Y    Great White Shark  "
            ]
          },
          "execution_count": 602,
          "metadata": {},
          "output_type": "execute_result"
        }
      ],
      "source": [
        "df.head()"
      ]
    },
    {
      "cell_type": "code",
      "execution_count": 603,
      "metadata": {
        "id": "JNmGVpdZiSlV"
      },
      "outputs": [],
      "source": [
        "df.columns = df.columns.str.strip().str.lower().str.replace(' ', '_').str.replace('.', '_')"
      ]
    },
    {
      "cell_type": "code",
      "execution_count": 604,
      "metadata": {
        "colab": {
          "base_uri": "https://localhost:8080/"
        },
        "id": "3aOv_dXwh8Lt",
        "outputId": "1d64397e-95d9-4ae0-8e55-68b34b223f3e"
      },
      "outputs": [
        {
          "name": "stderr",
          "output_type": "stream",
          "text": [
            "/var/folders/jv/lpcmj8m91yggsl2fvg3tnx2w0000gn/T/ipykernel_15542/1668207057.py:2: UserWarning: Could not infer format, so each element will be parsed individually, falling back to `dateutil`. To ensure parsing is consistent and as-expected, please specify a format.\n",
            "  df['date'] = pd.to_datetime(df['date'], errors='coerce')\n"
          ]
        }
      ],
      "source": [
        "if 'date' in df.columns:\n",
        "        df['date'] = pd.to_datetime(df['date'], errors='coerce')"
      ]
    },
    {
      "cell_type": "code",
      "execution_count": 605,
      "metadata": {
        "colab": {
          "base_uri": "https://localhost:8080/",
          "height": 241
        },
        "id": "47ZykLlqjm2U",
        "outputId": "a62f16f9-6d80-434a-e2f2-40ab984b1424"
      },
      "outputs": [
        {
          "data": {
            "text/plain": [
              "0   NaT\n",
              "1   NaT\n",
              "2   NaT\n",
              "3   NaT\n",
              "4   NaT\n",
              "Name: date, dtype: datetime64[ns]"
            ]
          },
          "execution_count": 605,
          "metadata": {},
          "output_type": "execute_result"
        }
      ],
      "source": [
        "df['date'].head()\n"
      ]
    },
    {
      "cell_type": "code",
      "execution_count": 606,
      "metadata": {
        "colab": {
          "base_uri": "https://localhost:8080/"
        },
        "id": "RBUjA69LjsqE",
        "outputId": "3102659b-a79e-4797-8129-c5d547c8e0b0"
      },
      "outputs": [
        {
          "name": "stdout",
          "output_type": "stream",
          "text": [
            "895\n"
          ]
        }
      ],
      "source": [
        "print(df['date'].isnull().sum())"
      ]
    },
    {
      "cell_type": "code",
      "execution_count": 607,
      "metadata": {
        "id": "xabL_GnMj3e7"
      },
      "outputs": [],
      "source": [
        "median_date = df['date'].median()\n",
        "df['date'] = df['date'].fillna(median_date)"
      ]
    },
    {
      "cell_type": "code",
      "execution_count": 608,
      "metadata": {
        "colab": {
          "base_uri": "https://localhost:8080/"
        },
        "id": "AyDC6cjoqXMi",
        "outputId": "060de019-b556-46b8-8318-aa03946b8ae1"
      },
      "outputs": [
        {
          "name": "stdout",
          "output_type": "stream",
          "text": [
            "0\n"
          ]
        }
      ],
      "source": [
        "print(df['date'].isnull().sum())"
      ]
    },
    {
      "cell_type": "code",
      "execution_count": 609,
      "metadata": {
        "id": "qH-XPd5Qh0TW"
      },
      "outputs": [],
      "source": [
        "df['date'] = df['date'].dt.date"
      ]
    },
    {
      "cell_type": "code",
      "execution_count": 610,
      "metadata": {
        "colab": {
          "base_uri": "https://localhost:8080/"
        },
        "id": "3K25C7p2kIID",
        "outputId": "a5135921-008f-4502-b4b2-83b812f29fc3"
      },
      "outputs": [
        {
          "name": "stdout",
          "output_type": "stream",
          "text": [
            "0    1992-08-17\n",
            "1    1992-08-17\n",
            "2    1992-08-17\n",
            "3    1992-08-17\n",
            "4    1992-08-17\n",
            "Name: date, dtype: object\n"
          ]
        }
      ],
      "source": [
        "print(df['date'].head())"
      ]
    },
    {
      "cell_type": "markdown",
      "metadata": {
        "id": "ojNRmiEStSAx"
      },
      "source": [
        "Hasta aquí el formato fechas acabado."
      ]
    },
    {
      "cell_type": "code",
      "execution_count": 611,
      "metadata": {
        "id": "yOs7AlcDtQ3p"
      },
      "outputs": [],
      "source": [
        "df['type'] = df['type'].astype(str).str.strip().str.lower()"
      ]
    },
    {
      "cell_type": "code",
      "execution_count": 612,
      "metadata": {
        "colab": {
          "base_uri": "https://localhost:8080/",
          "height": 492
        },
        "id": "B5-P0l9buT2A",
        "outputId": "cdc964f1-ef49-42f3-b4ca-6ef3cb251061"
      },
      "outputs": [
        {
          "data": {
            "text/plain": [
              "type\n",
              "unprovoked             5181\n",
              "provoked                638\n",
              "invalid                 552\n",
              "watercraft              354\n",
              "sea disaster            241\n",
              "questionable             26\n",
              "nan                      18\n",
              "boat                      7\n",
              "?                         1\n",
              "unconfirmed               1\n",
              "unverified                1\n",
              "under investigation       1\n",
              "Name: count, dtype: int64"
            ]
          },
          "execution_count": 612,
          "metadata": {},
          "output_type": "execute_result"
        }
      ],
      "source": [
        "df['type'].value_counts(dropna=False)"
      ]
    },
    {
      "cell_type": "code",
      "execution_count": 613,
      "metadata": {
        "id": "sYfwP382u51g"
      },
      "outputs": [],
      "source": [
        "mapeo_type = {\n",
        "    'unprovoked': 'unprovoked',\n",
        "    'provoked': 'provoked',\n",
        "    'boat': 'non-attack',\n",
        "    'sea disaster': 'non-attack',\n",
        "    'post-mortem bite': 'non-attack',\n",
        "    'invalid': 'invalid',\n",
        "    'questionable': 'questionable',\n",
        "    'probable': 'questionable',\n",
        "    'unconfirmed': 'questionable',\n",
        "    'unconfirmed incident': 'questionable',\n",
        "    'unconfirmed attack': 'questionable',\n",
        "    'under investigation': 'questionable',\n",
        "    'unknown': 'unknown',\n",
        "    'nan': 'unknown',\n",
        "    'none': 'unknown',\n",
        "    'other': 'unknown'\n",
        "}"
      ]
    },
    {
      "cell_type": "code",
      "execution_count": 614,
      "metadata": {
        "id": "tCpomhBUvJno"
      },
      "outputs": [],
      "source": [
        "df['type'] = df['type'].map(mapeo_type).fillna('unknown')\n",
        "df['type'] = df['type'].astype('category')"
      ]
    },
    {
      "cell_type": "code",
      "execution_count": 615,
      "metadata": {
        "colab": {
          "base_uri": "https://localhost:8080/",
          "height": 304
        },
        "id": "yulDCAegvMGP",
        "outputId": "5a68e1eb-76a4-4da3-fe61-1940bf0c299c"
      },
      "outputs": [
        {
          "data": {
            "text/plain": [
              "type\n",
              "unprovoked      5181\n",
              "provoked         638\n",
              "invalid          552\n",
              "unknown          374\n",
              "non-attack       248\n",
              "questionable      28\n",
              "Name: count, dtype: int64"
            ]
          },
          "execution_count": 615,
          "metadata": {},
          "output_type": "execute_result"
        }
      ],
      "source": [
        "df['type'].value_counts(dropna=False)"
      ]
    },
    {
      "cell_type": "code",
      "execution_count": 616,
      "metadata": {
        "colab": {
          "base_uri": "https://localhost:8080/"
        },
        "id": "2hd5C5X_UR0p",
        "outputId": "42fa6b8f-037f-4ab3-e39c-72db814d7bd6"
      },
      "outputs": [
        {
          "name": "stdout",
          "output_type": "stream",
          "text": [
            "0\n"
          ]
        }
      ],
      "source": [
        "print(df['type'].isnull().sum())"
      ]
    },
    {
      "cell_type": "markdown",
      "metadata": {
        "id": "tuU4xUmewPgI"
      },
      "source": [
        "Hasta aquí formato type acabado."
      ]
    },
    {
      "cell_type": "markdown",
      "metadata": {
        "id": "nT9Tm6pDuWW4"
      },
      "source": [
        "tengo que hacer valores unicos y hacerlo de mayor a menor."
      ]
    },
    {
      "cell_type": "code",
      "execution_count": 617,
      "metadata": {
        "id": "mFcTzYBq1E12"
      },
      "outputs": [],
      "source": [
        "top_60 = df['country'].value_counts().head(60).index.tolist()"
      ]
    },
    {
      "cell_type": "code",
      "execution_count": 618,
      "metadata": {
        "id": "ZWtS5cIP1Kn-"
      },
      "outputs": [],
      "source": [
        "df['country'] = df['country'].apply(lambda x: x if x in top_60 else 'other')"
      ]
    },
    {
      "cell_type": "code",
      "execution_count": 619,
      "metadata": {
        "id": "_OcaV23k1Na-"
      },
      "outputs": [],
      "source": [
        "df['country'] = df['country'].astype(str).str.lower().str.strip()\n",
        "df['country'] = df['country'].astype('category')"
      ]
    },
    {
      "cell_type": "code",
      "execution_count": 620,
      "metadata": {
        "colab": {
          "base_uri": "https://localhost:8080/"
        },
        "id": "A0YRxlcK1Qpm",
        "outputId": "4cca4b6f-8bd2-41fd-e6f1-f68db901e883"
      },
      "outputs": [
        {
          "name": "stdout",
          "output_type": "stream",
          "text": [
            "country\n",
            "usa                     2564\n",
            "australia               1506\n",
            "south africa             596\n",
            "other                    481\n",
            "new zealand              143\n",
            "bahamas                  136\n",
            "papua new guinea         135\n",
            "brazil                   121\n",
            "mexico                   103\n",
            "italy                     72\n",
            "fiji                      67\n",
            "new caledonia             65\n",
            "philippines               63\n",
            "reunion                   60\n",
            "cuba                      48\n",
            "egypt                     48\n",
            "mozambique                46\n",
            "spain                     46\n",
            "india                     40\n",
            "french polynesia          37\n",
            "japan                     36\n",
            "croatia                   35\n",
            "panama                    32\n",
            "jamaica                   30\n",
            "solomon islands           30\n",
            "iran                      26\n",
            "england                   25\n",
            "greece                    24\n",
            "hong kong                 24\n",
            "indonesia                 24\n",
            "costa rica                18\n",
            "pacific ocean             17\n",
            "atlantic ocean            17\n",
            "bermuda                   16\n",
            "vietnam                   15\n",
            "tonga                     15\n",
            "canada                    14\n",
            "vanuatu                   14\n",
            "sri lanka                 14\n",
            "marshall islands          13\n",
            "france                    13\n",
            "turkey                    12\n",
            "thailand                  12\n",
            "south atlantic ocean      12\n",
            "iraq                      12\n",
            "senegal                   11\n",
            "ecuador                   11\n",
            "venezuela                 11\n",
            "columbia                  10\n",
            "mauritius                 10\n",
            "samoa                     10\n",
            "united kingdom            10\n",
            "kenya                     10\n",
            "new guinea                10\n",
            "china                      9\n",
            "seychelles                 9\n",
            "taiwan                     9\n",
            "south korea                8\n",
            "tanzania                   8\n",
            "madagascar                 8\n",
            "Name: count, dtype: int64\n"
          ]
        }
      ],
      "source": [
        "print(df['country'].value_counts(dropna=False))"
      ]
    },
    {
      "cell_type": "code",
      "execution_count": 621,
      "metadata": {
        "id": "n_5PNms2O-wi"
      },
      "outputs": [],
      "source": [
        "top_10 = df.loc[df['country'] != 'other', 'country'].value_counts().head(10).index.tolist()"
      ]
    },
    {
      "cell_type": "code",
      "execution_count": 622,
      "metadata": {
        "id": "4x0mtbsSPNeC"
      },
      "outputs": [],
      "source": [
        "df['country'] = df['country'].apply(lambda x: 'unknown' if x == 'other'\n",
        "                                    else x if x in top_10\n",
        "                                    else 'rest of the world')"
      ]
    },
    {
      "cell_type": "code",
      "execution_count": 623,
      "metadata": {
        "id": "CsC_DXUiPv2i"
      },
      "outputs": [],
      "source": [
        "df['country'] = df['country'].astype('category')"
      ]
    },
    {
      "cell_type": "code",
      "execution_count": 624,
      "metadata": {
        "id": "aLQlNDG3P1tj"
      },
      "outputs": [],
      "source": [
        "df['country'] = df['country'].astype('category')"
      ]
    },
    {
      "cell_type": "code",
      "execution_count": 625,
      "metadata": {
        "colab": {
          "base_uri": "https://localhost:8080/"
        },
        "id": "UNJrdfFkP5FS",
        "outputId": "1cb4c03b-018d-4ebc-a401-f8613f3a024b"
      },
      "outputs": [
        {
          "name": "stdout",
          "output_type": "stream",
          "text": [
            "country\n",
            "usa                  2564\n",
            "australia            1506\n",
            "rest of the world    1097\n",
            "south africa          596\n",
            "unknown               481\n",
            "new zealand           143\n",
            "bahamas               136\n",
            "papua new guinea      135\n",
            "brazil                121\n",
            "mexico                103\n",
            "italy                  72\n",
            "fiji                   67\n",
            "Name: count, dtype: int64\n"
          ]
        }
      ],
      "source": [
        "print(df['country'].value_counts(dropna=False))\n"
      ]
    },
    {
      "cell_type": "code",
      "execution_count": 626,
      "metadata": {
        "colab": {
          "base_uri": "https://localhost:8080/"
        },
        "id": "0AFa-sdLUVTA",
        "outputId": "319e548b-5164-497a-f8a7-18686f85081a"
      },
      "outputs": [
        {
          "name": "stdout",
          "output_type": "stream",
          "text": [
            "0\n"
          ]
        }
      ],
      "source": [
        "print(df['country'].isnull().sum())"
      ]
    },
    {
      "cell_type": "markdown",
      "metadata": {
        "id": "Ax9tOEpYUEKp"
      },
      "source": [
        "Hasta aquí tenemos ya country."
      ]
    },
    {
      "cell_type": "code",
      "execution_count": 627,
      "metadata": {
        "id": "wKhUPu9HUC5I"
      },
      "outputs": [],
      "source": [
        "df['sex'] = df['sex'].astype(str).str.upper().str.strip()"
      ]
    },
    {
      "cell_type": "code",
      "execution_count": 628,
      "metadata": {
        "colab": {
          "base_uri": "https://localhost:8080/",
          "height": 335
        },
        "id": "mQyVxSElcy4-",
        "outputId": "ddf0a051-fc0a-4a10-baa8-3be33734f7a0"
      },
      "outputs": [
        {
          "data": {
            "text/plain": [
              "sex\n",
              "M        5634\n",
              "F         804\n",
              "NAN       578\n",
              "N           2\n",
              "LLI         1\n",
              "M X 2       1\n",
              ".           1\n",
              "Name: count, dtype: int64"
            ]
          },
          "execution_count": 628,
          "metadata": {},
          "output_type": "execute_result"
        }
      ],
      "source": [
        "df['sex'].value_counts(dropna=False)"
      ]
    },
    {
      "cell_type": "code",
      "execution_count": 629,
      "metadata": {
        "id": "NYbpYnT6VLsh"
      },
      "outputs": [],
      "source": [
        "def clean_sex(x):\n",
        "    if x == 'M':\n",
        "        return 'Male'\n",
        "    elif x == 'F':\n",
        "        return 'Female'\n",
        "    else:\n",
        "        return 'Unknown'\n",
        "\n",
        "df['sex'] = df['sex'].apply(clean_sex)"
      ]
    },
    {
      "cell_type": "code",
      "execution_count": 630,
      "metadata": {
        "id": "uZgCI79lVOng"
      },
      "outputs": [],
      "source": [
        "df['sex'] = df['sex'].astype('category')"
      ]
    },
    {
      "cell_type": "code",
      "execution_count": 631,
      "metadata": {
        "colab": {
          "base_uri": "https://localhost:8080/"
        },
        "id": "Q-k9dkgDbTRK",
        "outputId": "a04006ff-a2e7-464b-d5b8-6bcc2fe054f6"
      },
      "outputs": [
        {
          "name": "stdout",
          "output_type": "stream",
          "text": [
            "sex\n",
            "Male       5634\n",
            "Female      804\n",
            "Unknown     583\n",
            "Name: count, dtype: int64\n"
          ]
        }
      ],
      "source": [
        "print(df['sex'].value_counts())"
      ]
    },
    {
      "cell_type": "markdown",
      "metadata": {
        "id": "yGm87ZY7diFt"
      },
      "source": [
        "Hasta aquí sex."
      ]
    },
    {
      "cell_type": "code",
      "execution_count": 632,
      "metadata": {},
      "outputs": [],
      "source": [
        "df['activity'] = df['activity'].str.lower().str.strip()"
      ]
    },
    {
      "cell_type": "code",
      "execution_count": 633,
      "metadata": {},
      "outputs": [],
      "source": [
        "\n",
        "df['activity_group'] = pd.NA\n",
        "\n",
        "\n",
        "df.loc[df['activity'].str.contains('surf|paddle|board|wake', na=False), 'activity_group'] = 'surfing'\n",
        "df.loc[df['activity'].str.contains('swim|bathing|snorkeling', na=False), 'activity_group'] = 'swimming'\n",
        "df.loc[df['activity'].str.contains('fish|hook|net|trawling|spear', na=False), 'activity_group'] = 'fishing'\n",
        "df.loc[df['activity'].str.contains('wade|standing|splashing', na=False), 'activity_group'] = 'wading'\n",
        "df.loc[df['activity'].str.contains('diving|dive', na=False), 'activity_group'] = 'diving'\n",
        "df.loc[df['activity'].str.contains('boat|kayak|canoe|vessel|pirogue|capsized', na=False), 'activity_group'] = 'boating'\n",
        "df.loc[df['activity'].str.contains('floating|treading|drowning', na=False), 'activity_group'] = 'floating'\n",
        "df.loc[df['activity'].str.contains('walking|playing|clamming|dangling', na=False), 'activity_group'] = 'shore'\n",
        "df.loc[df['activity'].str.contains('disaster|shipwreck|fell|jumped|run down|sailing|rowing', na=False), 'activity_group'] = 'adventure challenges'\n",
        "df.loc[df['activity'].str.contains('feeding', na=False), 'activity_group'] = 'feeding'\n",
        "\n",
        "\n",
        "df['activity_group'] = df['activity_group'].fillna('Other')"
      ]
    },
    {
      "cell_type": "code",
      "execution_count": 634,
      "metadata": {},
      "outputs": [
        {
          "data": {
            "text/plain": [
              "activity_group\n",
              "surfing                 1559\n",
              "swimming                1509\n",
              "fishing                 1204\n",
              "Other                   1198\n",
              "diving                   635\n",
              "boating                  294\n",
              "adventure challenges     235\n",
              "wading                   179\n",
              "floating                 111\n",
              "shore                     71\n",
              "feeding                   26\n",
              "Name: count, dtype: int64"
            ]
          },
          "execution_count": 634,
          "metadata": {},
          "output_type": "execute_result"
        }
      ],
      "source": [
        "df['activity_group'].value_counts()"
      ]
    },
    {
      "cell_type": "code",
      "execution_count": 635,
      "metadata": {
        "colab": {
          "base_uri": "https://localhost:8080/",
          "height": 206
        },
        "id": "Tu0ktaNtg_As",
        "outputId": "4e89b528-87dd-47e9-e499-d7b3a60d5400"
      },
      "outputs": [
        {
          "name": "stdout",
          "output_type": "stream",
          "text": [
            "Series([], Name: count, dtype: int64)\n"
          ]
        }
      ],
      "source": [
        "df_other = df.loc[df['activity_group'] == 'other']\n",
        "print(df_other['activity'].value_counts().head(20))"
      ]
    },
    {
      "cell_type": "code",
      "execution_count": 636,
      "metadata": {},
      "outputs": [
        {
          "data": {
            "text/plain": [
              "fatal_y/n\n",
              "N          4894\n",
              "Y          1475\n",
              "UNKNOWN      70\n",
              " N            7\n",
              "F             5\n",
              "M             3\n",
              "n             1\n",
              "Nq            1\n",
              "2017          1\n",
              "Y x 2         1\n",
              "N             1\n",
              "y             1\n",
              "Name: count, dtype: int64"
            ]
          },
          "execution_count": 636,
          "metadata": {},
          "output_type": "execute_result"
        }
      ],
      "source": [
        "df['fatal_y/n'].value_counts()"
      ]
    },
    {
      "cell_type": "code",
      "execution_count": 637,
      "metadata": {},
      "outputs": [],
      "source": [
        "mapeo_fatal = {\n",
        "    \n",
        "    'N': 'N',\n",
        "    'n': 'N',\n",
        "    'Nq': 'N',  \n",
        "    'F': 'N',   \n",
        "    'M': 'N',   \n",
        "    '2017': 'N',     \n",
        "    'Y': 'Y',\n",
        "    'y': 'Y',   \n",
        "    'UNKNOWN': 'UNKNOWN'\n",
        "}\n",
        "\n",
        "\n",
        "df['fatal_y/n'] = df['fatal_y/n'].replace(mapeo_fatal)\n",
        "\n",
        "\n",
        "df['fatal_y/n'] = df['fatal_y/n'].fillna('UNKNOWN')\n",
        "\n",
        "\n",
        "valores_validos = ['Y', 'N', 'UNKNOWN']\n",
        "df.loc[~df['fatal_y/n'].isin(valores_validos), 'fatal_y/n'] = 'UNKNOWN'\n",
        "\n",
        "\n",
        "\n",
        "df['fatal_y/n'] = df['fatal_y/n'].astype('category')"
      ]
    },
    {
      "cell_type": "code",
      "execution_count": 638,
      "metadata": {},
      "outputs": [
        {
          "data": {
            "text/plain": [
              "fatal_y/n\n",
              "N          4904\n",
              "Y          1476\n",
              "UNKNOWN     641\n",
              "Name: count, dtype: int64"
            ]
          },
          "execution_count": 638,
          "metadata": {},
          "output_type": "execute_result"
        }
      ],
      "source": [
        "df['fatal_y/n'].value_counts()"
      ]
    },
    {
      "cell_type": "code",
      "execution_count": 639,
      "metadata": {},
      "outputs": [
        {
          "data": {
            "text/html": [
              "<div>\n",
              "<style scoped>\n",
              "    .dataframe tbody tr th:only-of-type {\n",
              "        vertical-align: middle;\n",
              "    }\n",
              "\n",
              "    .dataframe tbody tr th {\n",
              "        vertical-align: top;\n",
              "    }\n",
              "\n",
              "    .dataframe thead th {\n",
              "        text-align: right;\n",
              "    }\n",
              "</style>\n",
              "<table border=\"1\" class=\"dataframe\">\n",
              "  <thead>\n",
              "    <tr style=\"text-align: right;\">\n",
              "      <th></th>\n",
              "      <th>date</th>\n",
              "      <th>type</th>\n",
              "      <th>country</th>\n",
              "      <th>activity</th>\n",
              "      <th>sex</th>\n",
              "      <th>age</th>\n",
              "      <th>fatal_y/n</th>\n",
              "      <th>species</th>\n",
              "      <th>activity_group</th>\n",
              "    </tr>\n",
              "  </thead>\n",
              "  <tbody>\n",
              "    <tr>\n",
              "      <th>0</th>\n",
              "      <td>1992-08-17</td>\n",
              "      <td>unprovoked</td>\n",
              "      <td>australia</td>\n",
              "      <td>fishing/swimming</td>\n",
              "      <td>Male</td>\n",
              "      <td>14</td>\n",
              "      <td>N</td>\n",
              "      <td>Tiger or Bull shark</td>\n",
              "      <td>fishing</td>\n",
              "    </tr>\n",
              "    <tr>\n",
              "      <th>1</th>\n",
              "      <td>1992-08-17</td>\n",
              "      <td>unprovoked</td>\n",
              "      <td>australia</td>\n",
              "      <td>surfing</td>\n",
              "      <td>Male</td>\n",
              "      <td>50+</td>\n",
              "      <td>N</td>\n",
              "      <td>Bronze whaler?</td>\n",
              "      <td>surfing</td>\n",
              "    </tr>\n",
              "    <tr>\n",
              "      <th>2</th>\n",
              "      <td>1992-08-17</td>\n",
              "      <td>unprovoked</td>\n",
              "      <td>usa</td>\n",
              "      <td>swimming</td>\n",
              "      <td>Male</td>\n",
              "      <td>54</td>\n",
              "      <td>N</td>\n",
              "      <td>unknown 1.2m shark</td>\n",
              "      <td>swimming</td>\n",
              "    </tr>\n",
              "    <tr>\n",
              "      <th>3</th>\n",
              "      <td>1992-08-17</td>\n",
              "      <td>provoked</td>\n",
              "      <td>unknown</td>\n",
              "      <td>diving-tagging sharks</td>\n",
              "      <td>Male</td>\n",
              "      <td>48</td>\n",
              "      <td>N</td>\n",
              "      <td>Tiger shark 4m</td>\n",
              "      <td>diving</td>\n",
              "    </tr>\n",
              "    <tr>\n",
              "      <th>4</th>\n",
              "      <td>1992-08-17</td>\n",
              "      <td>unprovoked</td>\n",
              "      <td>australia</td>\n",
              "      <td>surfing</td>\n",
              "      <td>Male</td>\n",
              "      <td>57</td>\n",
              "      <td>Y</td>\n",
              "      <td>Great White Shark</td>\n",
              "      <td>surfing</td>\n",
              "    </tr>\n",
              "    <tr>\n",
              "      <th>5</th>\n",
              "      <td>1992-08-17</td>\n",
              "      <td>unprovoked</td>\n",
              "      <td>usa</td>\n",
              "      <td>snorkeling</td>\n",
              "      <td>Male</td>\n",
              "      <td>8</td>\n",
              "      <td>N</td>\n",
              "      <td>Not stated</td>\n",
              "      <td>swimming</td>\n",
              "    </tr>\n",
              "    <tr>\n",
              "      <th>6</th>\n",
              "      <td>1992-08-17</td>\n",
              "      <td>unprovoked</td>\n",
              "      <td>usa</td>\n",
              "      <td>swimming</td>\n",
              "      <td>Female</td>\n",
              "      <td>8</td>\n",
              "      <td>N</td>\n",
              "      <td>Not stated</td>\n",
              "      <td>swimming</td>\n",
              "    </tr>\n",
              "    <tr>\n",
              "      <th>7</th>\n",
              "      <td>1992-08-17</td>\n",
              "      <td>unprovoked</td>\n",
              "      <td>australia</td>\n",
              "      <td>surfing</td>\n",
              "      <td>Male</td>\n",
              "      <td>?</td>\n",
              "      <td>N</td>\n",
              "      <td>5m (16.5ft) Great White</td>\n",
              "      <td>surfing</td>\n",
              "    </tr>\n",
              "    <tr>\n",
              "      <th>8</th>\n",
              "      <td>1992-08-17</td>\n",
              "      <td>unprovoked</td>\n",
              "      <td>unknown</td>\n",
              "      <td>spearfishing</td>\n",
              "      <td>Male</td>\n",
              "      <td>63</td>\n",
              "      <td>N</td>\n",
              "      <td>Undetermined</td>\n",
              "      <td>fishing</td>\n",
              "    </tr>\n",
              "    <tr>\n",
              "      <th>9</th>\n",
              "      <td>1992-08-17</td>\n",
              "      <td>provoked</td>\n",
              "      <td>usa</td>\n",
              "      <td>fishing</td>\n",
              "      <td>Male</td>\n",
              "      <td>?</td>\n",
              "      <td>N</td>\n",
              "      <td>Lemon shark 1.8 m (6ft)</td>\n",
              "      <td>fishing</td>\n",
              "    </tr>\n",
              "  </tbody>\n",
              "</table>\n",
              "</div>"
            ],
            "text/plain": [
              "         date        type    country               activity     sex  age  \\\n",
              "0  1992-08-17  unprovoked  australia       fishing/swimming    Male   14   \n",
              "1  1992-08-17  unprovoked  australia                surfing    Male  50+   \n",
              "2  1992-08-17  unprovoked        usa               swimming    Male   54   \n",
              "3  1992-08-17    provoked    unknown  diving-tagging sharks    Male   48   \n",
              "4  1992-08-17  unprovoked  australia                surfing    Male   57   \n",
              "5  1992-08-17  unprovoked        usa             snorkeling    Male    8   \n",
              "6  1992-08-17  unprovoked        usa               swimming  Female    8   \n",
              "7  1992-08-17  unprovoked  australia                surfing    Male    ?   \n",
              "8  1992-08-17  unprovoked    unknown           spearfishing    Male   63   \n",
              "9  1992-08-17    provoked        usa                fishing    Male    ?   \n",
              "\n",
              "  fatal_y/n                  species activity_group  \n",
              "0         N      Tiger or Bull shark        fishing  \n",
              "1         N           Bronze whaler?        surfing  \n",
              "2         N       unknown 1.2m shark       swimming  \n",
              "3         N           Tiger shark 4m         diving  \n",
              "4         Y        Great White Shark        surfing  \n",
              "5         N               Not stated       swimming  \n",
              "6         N               Not stated       swimming  \n",
              "7         N  5m (16.5ft) Great White        surfing  \n",
              "8         N             Undetermined        fishing  \n",
              "9         N  Lemon shark 1.8 m (6ft)        fishing  "
            ]
          },
          "execution_count": 639,
          "metadata": {},
          "output_type": "execute_result"
        }
      ],
      "source": [
        "df.head(10)"
      ]
    },
    {
      "cell_type": "code",
      "execution_count": 640,
      "metadata": {},
      "outputs": [
        {
          "name": "stderr",
          "output_type": "stream",
          "text": [
            "/var/folders/jv/lpcmj8m91yggsl2fvg3tnx2w0000gn/T/ipykernel_15542/900708983.py:1: FutureWarning: The default of observed=False is deprecated and will be changed to True in a future version of pandas. Pass observed=False to retain current behavior or observed=True to adopt the future default and silence this warning.\n",
            "  df_fatal = df.groupby(['country', 'fatal_y/n']).size().unstack(fill_value=0)\n"
          ]
        }
      ],
      "source": [
        "df_fatal = df.groupby(['country', 'fatal_y/n']).size().unstack(fill_value=0)"
      ]
    },
    {
      "cell_type": "code",
      "execution_count": 641,
      "metadata": {},
      "outputs": [
        {
          "data": {
            "text/html": [
              "<div>\n",
              "<style scoped>\n",
              "    .dataframe tbody tr th:only-of-type {\n",
              "        vertical-align: middle;\n",
              "    }\n",
              "\n",
              "    .dataframe tbody tr th {\n",
              "        vertical-align: top;\n",
              "    }\n",
              "\n",
              "    .dataframe thead th {\n",
              "        text-align: right;\n",
              "    }\n",
              "</style>\n",
              "<table border=\"1\" class=\"dataframe\">\n",
              "  <thead>\n",
              "    <tr style=\"text-align: right;\">\n",
              "      <th>fatal_y/n</th>\n",
              "      <th>N</th>\n",
              "      <th>UNKNOWN</th>\n",
              "      <th>Y</th>\n",
              "    </tr>\n",
              "    <tr>\n",
              "      <th>country</th>\n",
              "      <th></th>\n",
              "      <th></th>\n",
              "      <th></th>\n",
              "    </tr>\n",
              "  </thead>\n",
              "  <tbody>\n",
              "    <tr>\n",
              "      <th>australia</th>\n",
              "      <td>1053</td>\n",
              "      <td>147</td>\n",
              "      <td>306</td>\n",
              "    </tr>\n",
              "    <tr>\n",
              "      <th>bahamas</th>\n",
              "      <td>113</td>\n",
              "      <td>8</td>\n",
              "      <td>15</td>\n",
              "    </tr>\n",
              "    <tr>\n",
              "      <th>brazil</th>\n",
              "      <td>71</td>\n",
              "      <td>11</td>\n",
              "      <td>39</td>\n",
              "    </tr>\n",
              "    <tr>\n",
              "      <th>fiji</th>\n",
              "      <td>44</td>\n",
              "      <td>1</td>\n",
              "      <td>22</td>\n",
              "    </tr>\n",
              "    <tr>\n",
              "      <th>italy</th>\n",
              "      <td>41</td>\n",
              "      <td>17</td>\n",
              "      <td>14</td>\n",
              "    </tr>\n",
              "    <tr>\n",
              "      <th>mexico</th>\n",
              "      <td>44</td>\n",
              "      <td>11</td>\n",
              "      <td>48</td>\n",
              "    </tr>\n",
              "    <tr>\n",
              "      <th>new zealand</th>\n",
              "      <td>105</td>\n",
              "      <td>13</td>\n",
              "      <td>25</td>\n",
              "    </tr>\n",
              "    <tr>\n",
              "      <th>papua new guinea</th>\n",
              "      <td>72</td>\n",
              "      <td>5</td>\n",
              "      <td>58</td>\n",
              "    </tr>\n",
              "    <tr>\n",
              "      <th>rest of the world</th>\n",
              "      <td>559</td>\n",
              "      <td>99</td>\n",
              "      <td>439</td>\n",
              "    </tr>\n",
              "    <tr>\n",
              "      <th>south africa</th>\n",
              "      <td>421</td>\n",
              "      <td>66</td>\n",
              "      <td>109</td>\n",
              "    </tr>\n",
              "    <tr>\n",
              "      <th>unknown</th>\n",
              "      <td>225</td>\n",
              "      <td>53</td>\n",
              "      <td>203</td>\n",
              "    </tr>\n",
              "    <tr>\n",
              "      <th>usa</th>\n",
              "      <td>2156</td>\n",
              "      <td>210</td>\n",
              "      <td>198</td>\n",
              "    </tr>\n",
              "  </tbody>\n",
              "</table>\n",
              "</div>"
            ],
            "text/plain": [
              "fatal_y/n             N  UNKNOWN    Y\n",
              "country                              \n",
              "australia          1053      147  306\n",
              "bahamas             113        8   15\n",
              "brazil               71       11   39\n",
              "fiji                 44        1   22\n",
              "italy                41       17   14\n",
              "mexico               44       11   48\n",
              "new zealand         105       13   25\n",
              "papua new guinea     72        5   58\n",
              "rest of the world   559       99  439\n",
              "south africa        421       66  109\n",
              "unknown             225       53  203\n",
              "usa                2156      210  198"
            ]
          },
          "execution_count": 641,
          "metadata": {},
          "output_type": "execute_result"
        }
      ],
      "source": [
        "df_fatal"
      ]
    },
    {
      "cell_type": "code",
      "execution_count": 642,
      "metadata": {},
      "outputs": [
        {
          "name": "stderr",
          "output_type": "stream",
          "text": [
            "/var/folders/jv/lpcmj8m91yggsl2fvg3tnx2w0000gn/T/ipykernel_15542/299431288.py:1: FutureWarning: The default of observed=False is deprecated and will be changed to True in a future version of pandas. Pass observed=False to retain current behavior or observed=True to adopt the future default and silence this warning.\n",
            "  df_sexo = df.groupby(['sex', 'type']).size().unstack(fill_value=0)\n"
          ]
        }
      ],
      "source": [
        "df_sexo = df.groupby(['sex', 'type']).size().unstack(fill_value=0)"
      ]
    },
    {
      "cell_type": "code",
      "execution_count": 643,
      "metadata": {},
      "outputs": [
        {
          "data": {
            "text/html": [
              "<div>\n",
              "<style scoped>\n",
              "    .dataframe tbody tr th:only-of-type {\n",
              "        vertical-align: middle;\n",
              "    }\n",
              "\n",
              "    .dataframe tbody tr th {\n",
              "        vertical-align: top;\n",
              "    }\n",
              "\n",
              "    .dataframe thead th {\n",
              "        text-align: right;\n",
              "    }\n",
              "</style>\n",
              "<table border=\"1\" class=\"dataframe\">\n",
              "  <thead>\n",
              "    <tr style=\"text-align: right;\">\n",
              "      <th>type</th>\n",
              "      <th>invalid</th>\n",
              "      <th>non-attack</th>\n",
              "      <th>provoked</th>\n",
              "      <th>questionable</th>\n",
              "      <th>unknown</th>\n",
              "      <th>unprovoked</th>\n",
              "    </tr>\n",
              "    <tr>\n",
              "      <th>sex</th>\n",
              "      <th></th>\n",
              "      <th></th>\n",
              "      <th></th>\n",
              "      <th></th>\n",
              "      <th></th>\n",
              "      <th></th>\n",
              "    </tr>\n",
              "  </thead>\n",
              "  <tbody>\n",
              "    <tr>\n",
              "      <th>Female</th>\n",
              "      <td>65</td>\n",
              "      <td>9</td>\n",
              "      <td>31</td>\n",
              "      <td>5</td>\n",
              "      <td>13</td>\n",
              "      <td>681</td>\n",
              "    </tr>\n",
              "    <tr>\n",
              "      <th>Male</th>\n",
              "      <td>413</td>\n",
              "      <td>165</td>\n",
              "      <td>547</td>\n",
              "      <td>21</td>\n",
              "      <td>157</td>\n",
              "      <td>4331</td>\n",
              "    </tr>\n",
              "    <tr>\n",
              "      <th>Unknown</th>\n",
              "      <td>74</td>\n",
              "      <td>74</td>\n",
              "      <td>60</td>\n",
              "      <td>2</td>\n",
              "      <td>204</td>\n",
              "      <td>169</td>\n",
              "    </tr>\n",
              "  </tbody>\n",
              "</table>\n",
              "</div>"
            ],
            "text/plain": [
              "type     invalid  non-attack  provoked  questionable  unknown  unprovoked\n",
              "sex                                                                      \n",
              "Female        65           9        31             5       13         681\n",
              "Male         413         165       547            21      157        4331\n",
              "Unknown       74          74        60             2      204         169"
            ]
          },
          "execution_count": 643,
          "metadata": {},
          "output_type": "execute_result"
        }
      ],
      "source": [
        "df_sexo  # relación entre sexo y tipo de ataque"
      ]
    },
    {
      "cell_type": "code",
      "execution_count": 644,
      "metadata": {},
      "outputs": [
        {
          "name": "stderr",
          "output_type": "stream",
          "text": [
            "/var/folders/jv/lpcmj8m91yggsl2fvg3tnx2w0000gn/T/ipykernel_15542/1153403288.py:1: FutureWarning: The default of observed=False is deprecated and will be changed to True in a future version of pandas. Pass observed=False to retain current behavior or observed=True to adopt the future default and silence this warning.\n",
            "  df_fatalidad_por_actividad = df.groupby(['activity_group', 'fatal_y/n']).size().unstack(fill_value=0)\n"
          ]
        }
      ],
      "source": [
        "df_fatalidad_por_actividad = df.groupby(['activity_group', 'fatal_y/n']).size().unstack(fill_value=0)\n",
        "\n",
        "df_fatalidad_por_actividad.columns.name = None\n",
        "df_fatalidad_por_actividad.columns = ['No Fatal (N)', 'Fatal (Y)', 'Unknown']"
      ]
    },
    {
      "cell_type": "code",
      "execution_count": 645,
      "metadata": {},
      "outputs": [],
      "source": [
        "df_fatalidad_por_actividad['Total'] = df_fatalidad_por_actividad['No Fatal (N)'] + df_fatalidad_por_actividad['Fatal (Y)']"
      ]
    },
    {
      "cell_type": "code",
      "execution_count": 646,
      "metadata": {},
      "outputs": [],
      "source": [
        "df_fatalidad_por_actividad['Tasa Fatalidad (%)'] = (df_fatalidad_por_actividad['Fatal (Y)'] / df_fatalidad_por_actividad['Total']) * 100\n",
        "df_fatalidad_por_actividad['Tasa Fatalidad (%)'] = df_fatalidad_por_actividad['Tasa Fatalidad (%)'].round(2)\n",
        "df_fatalidad_por_actividad = df_fatalidad_por_actividad.sort_values(by='Tasa Fatalidad (%)', ascending=False)"
      ]
    },
    {
      "cell_type": "markdown",
      "metadata": {},
      "source": [
        "**ACTIVIDAD X FATALIDAD **"
      ]
    },
    {
      "cell_type": "code",
      "execution_count": 647,
      "metadata": {},
      "outputs": [
        {
          "data": {
            "text/html": [
              "<div>\n",
              "<style scoped>\n",
              "    .dataframe tbody tr th:only-of-type {\n",
              "        vertical-align: middle;\n",
              "    }\n",
              "\n",
              "    .dataframe tbody tr th {\n",
              "        vertical-align: top;\n",
              "    }\n",
              "\n",
              "    .dataframe thead th {\n",
              "        text-align: right;\n",
              "    }\n",
              "</style>\n",
              "<table border=\"1\" class=\"dataframe\">\n",
              "  <thead>\n",
              "    <tr style=\"text-align: right;\">\n",
              "      <th></th>\n",
              "      <th>No Fatal (N)</th>\n",
              "      <th>Fatal (Y)</th>\n",
              "      <th>Total</th>\n",
              "      <th>Tasa Fatalidad (%)</th>\n",
              "    </tr>\n",
              "    <tr>\n",
              "      <th>activity_group</th>\n",
              "      <th></th>\n",
              "      <th></th>\n",
              "      <th></th>\n",
              "      <th></th>\n",
              "    </tr>\n",
              "  </thead>\n",
              "  <tbody>\n",
              "    <tr>\n",
              "      <th>Other</th>\n",
              "      <td>694</td>\n",
              "      <td>232</td>\n",
              "      <td>926</td>\n",
              "      <td>25.05</td>\n",
              "    </tr>\n",
              "    <tr>\n",
              "      <th>adventure challenges</th>\n",
              "      <td>83</td>\n",
              "      <td>24</td>\n",
              "      <td>107</td>\n",
              "      <td>22.43</td>\n",
              "    </tr>\n",
              "    <tr>\n",
              "      <th>boating</th>\n",
              "      <td>154</td>\n",
              "      <td>37</td>\n",
              "      <td>191</td>\n",
              "      <td>19.37</td>\n",
              "    </tr>\n",
              "    <tr>\n",
              "      <th>diving</th>\n",
              "      <td>411</td>\n",
              "      <td>72</td>\n",
              "      <td>483</td>\n",
              "      <td>14.91</td>\n",
              "    </tr>\n",
              "    <tr>\n",
              "      <th>swimming</th>\n",
              "      <td>874</td>\n",
              "      <td>134</td>\n",
              "      <td>1008</td>\n",
              "      <td>13.29</td>\n",
              "    </tr>\n",
              "    <tr>\n",
              "      <th>floating</th>\n",
              "      <td>81</td>\n",
              "      <td>6</td>\n",
              "      <td>87</td>\n",
              "      <td>6.90</td>\n",
              "    </tr>\n",
              "    <tr>\n",
              "      <th>fishing</th>\n",
              "      <td>992</td>\n",
              "      <td>67</td>\n",
              "      <td>1059</td>\n",
              "      <td>6.33</td>\n",
              "    </tr>\n",
              "    <tr>\n",
              "      <th>shore</th>\n",
              "      <td>62</td>\n",
              "      <td>4</td>\n",
              "      <td>66</td>\n",
              "      <td>6.06</td>\n",
              "    </tr>\n",
              "    <tr>\n",
              "      <th>surfing</th>\n",
              "      <td>1377</td>\n",
              "      <td>61</td>\n",
              "      <td>1438</td>\n",
              "      <td>4.24</td>\n",
              "    </tr>\n",
              "    <tr>\n",
              "      <th>feeding</th>\n",
              "      <td>25</td>\n",
              "      <td>1</td>\n",
              "      <td>26</td>\n",
              "      <td>3.85</td>\n",
              "    </tr>\n",
              "    <tr>\n",
              "      <th>wading</th>\n",
              "      <td>151</td>\n",
              "      <td>3</td>\n",
              "      <td>154</td>\n",
              "      <td>1.95</td>\n",
              "    </tr>\n",
              "  </tbody>\n",
              "</table>\n",
              "</div>"
            ],
            "text/plain": [
              "                      No Fatal (N)  Fatal (Y)  Total  Tasa Fatalidad (%)\n",
              "activity_group                                                          \n",
              "Other                          694        232    926               25.05\n",
              "adventure challenges            83         24    107               22.43\n",
              "boating                        154         37    191               19.37\n",
              "diving                         411         72    483               14.91\n",
              "swimming                       874        134   1008               13.29\n",
              "floating                        81          6     87                6.90\n",
              "fishing                        992         67   1059                6.33\n",
              "shore                           62          4     66                6.06\n",
              "surfing                       1377         61   1438                4.24\n",
              "feeding                         25          1     26                3.85\n",
              "wading                         151          3    154                1.95"
            ]
          },
          "execution_count": 647,
          "metadata": {},
          "output_type": "execute_result"
        }
      ],
      "source": [
        "df_clean = df_fatalidad_por_actividad.drop(columns=['Unknown'])\n",
        "df_clean = df_fatalidad_por_actividad.drop('Unknown', axis=1)\n",
        "df_clean"
      ]
    },
    {
      "cell_type": "code",
      "execution_count": 648,
      "metadata": {},
      "outputs": [
        {
          "data": {
            "text/plain": [
              "sex\n",
              "Male       5634\n",
              "Female      804\n",
              "Unknown     583\n",
              "Name: count, dtype: int64"
            ]
          },
          "execution_count": 648,
          "metadata": {},
          "output_type": "execute_result"
        }
      ],
      "source": [
        "df[\"sex\"].value_counts()"
      ]
    },
    {
      "cell_type": "code",
      "execution_count": 649,
      "metadata": {},
      "outputs": [
        {
          "data": {
            "text/plain": [
              "species\n",
              "White shark                                                                                                                                                                                194\n",
              "Shark involvement prior to death was not confirmed                                                                                                                                         105\n",
              "Invalid                                                                                                                                                                                    102\n",
              "Shark involvement not confirmed                                                                                                                                                             92\n",
              "Tiger shark                                                                                                                                                                                 89\n",
              "                                                                                                                                                                                          ... \n",
              "Mr. Burgess of ISAF announced the injury was the bite of a 1.8 m [6'], 2- to 3-year old white shark. Subsequent investigation revealed there was  no shark involvement in this incident      1\n",
              "Unknown, but it was reported that a shark tooth was recovered from the wound                                                                                                                 1\n",
              "On 8/13/2005 anglers from New Zealand caught a 2.8 m [9'3\"], 140-kg [309-lb] shark at the same spot. It was believed this was the same shark that killed Alysha                              1\n",
              "1.8 m [6'] bull shark                                                                                                                                                                        1\n",
              "Said to involve a grey nurse shark that leapt out of the water and  seized the boy but species identification is questionable                                                                1\n",
              "Name: count, Length: 1728, dtype: int64"
            ]
          },
          "execution_count": 649,
          "metadata": {},
          "output_type": "execute_result"
        }
      ],
      "source": [
        "df[\"species\"].value_counts()"
      ]
    },
    {
      "cell_type": "code",
      "execution_count": 650,
      "metadata": {},
      "outputs": [
        {
          "data": {
            "text/plain": [
              "1728"
            ]
          },
          "execution_count": 650,
          "metadata": {},
          "output_type": "execute_result"
        }
      ],
      "source": [
        "df[\"species\"].nunique()"
      ]
    },
    {
      "cell_type": "code",
      "execution_count": 651,
      "metadata": {},
      "outputs": [
        {
          "name": "stdout",
          "output_type": "stream",
          "text": [
            "Número de especies originales únicas: 973\n",
            "Número de grupos principales: 973\n",
            "species_group\n",
            "other shark           4986\n",
            "great white shark      749\n",
            "tiger shark            342\n",
            "bull shark             231\n",
            "blacktip shark         135\n",
            "unknown                130\n",
            "grey nurse shark       112\n",
            "reef shark              64\n",
            "blue shark              60\n",
            "mako shark              59\n",
            "hammerhead shark        49\n",
            "lemon shark             46\n",
            "sand tiger shark        27\n",
            "sevengill shark         17\n",
            "galapagos shark          9\n",
            "dogfish                  4\n",
            "port jackson shark       1\n",
            "Name: count, dtype: int64\n"
          ]
        }
      ],
      "source": [
        "\n",
        "\n",
        "df[\"species\"] = (\n",
        "    df[\"species\"]\n",
        "    .astype(str) \n",
        "    .str.lower()\n",
        "    .str.strip()\n",
        "    .str.replace(r'[^a-z\\s]', '', regex=True)\n",
        ")\n",
        "\n",
        "\n",
        "replace_dict = {\n",
        "    \"white shark\": \"great white shark\",\n",
        "    \"great white\": \"great white shark\",\n",
        "    \"carcharodon carcharias\": \"great white shark\",\n",
        "    \"tiger\": \"tiger shark\",\n",
        "    \"galeocerdo cuvier\": \"tiger shark\",\n",
        "    \"bull shark\": \"bull shark\",\n",
        "    \"carcharhinus leucas\": \"bull shark\",\n",
        "    \"hammerhead\": \"hammerhead shark\",\n",
        "    \"blacktip\": \"blacktip shark\",\n",
        "    \"grey nurse\": \"grey nurse shark\",\n",
        "}\n",
        "for k, v in replace_dict.items():\n",
        "    df[\"species\"] = df[\"species\"].str.replace(k, v, regex=False)\n",
        "\n",
        "\n",
        "df[\"species\"] = df[\"species\"].replace({\n",
        "    \"unidentified shark\": \"unknown\",\n",
        "    \"no shark involvement\": \"unknown\",\n",
        "    \"shark involvement not confirmed\": \"unknown\",\n",
        "})\n",
        "df[\"species\"] = df[\"species\"].apply(\n",
        "    lambda x: \"unknown\" if isinstance(x, str) and (\"possible\" in x or \"unknown\" in x) else x\n",
        ")\n",
        "df[\"species\"] = df[\"species\"].fillna(\"unknown\")\n",
        "\n",
        "\n",
        "def map_species_group(x):\n",
        "    if not isinstance(x, str):\n",
        "        return \"unknown\"\n",
        "    x = x.lower()\n",
        "    if \"white\" in x:\n",
        "        return \"great white shark\"\n",
        "    elif \"tiger\" in x:\n",
        "        return \"tiger shark\"\n",
        "    elif \"bull\" in x:\n",
        "        return \"bull shark\"\n",
        "    elif \"hammerhead\" in x:\n",
        "        return \"hammerhead shark\"\n",
        "    elif \"blacktip\" in x:\n",
        "        return \"blacktip shark\"\n",
        "    elif \"nurse\" in x:\n",
        "        return \"grey nurse shark\"\n",
        "    elif \"mako\" in x:\n",
        "        return \"mako shark\"\n",
        "    elif \"blue\" in x:\n",
        "        return \"blue shark\"\n",
        "    elif \"lemon\" in x:\n",
        "        return \"lemon shark\"\n",
        "    elif \"reef\" in x:\n",
        "        return \"reef shark\"\n",
        "    elif \"sand\" in x:\n",
        "        return \"sand tiger shark\"\n",
        "    elif \"dogfish\" in x:\n",
        "        return \"dogfish\"\n",
        "    elif \"galapagos\" in x:\n",
        "        return \"galapagos shark\"\n",
        "    elif \"sevengill\" in x:\n",
        "        return \"sevengill shark\"\n",
        "    elif \"port jackson\" in x:\n",
        "        return \"port jackson shark\"\n",
        "    elif \"unknown\" in x or \"possible\" in x:\n",
        "        return \"unknown\"\n",
        "    else:\n",
        "        return \"other shark\"\n",
        "\n",
        "df[\"species_group\"] = df[\"species\"].apply(map_species_group)\n",
        "\n",
        "\n",
        "print(\"Número de especies originales únicas:\", df[\"species\"].nunique())\n",
        "print(\"Número de grupos principales:\", df[\"species\"].nunique())\n",
        "print(df[\"species_group\"].value_counts().head(20))\n"
      ]
    },
    {
      "cell_type": "code",
      "execution_count": 652,
      "metadata": {},
      "outputs": [
        {
          "data": {
            "text/html": [
              "<div>\n",
              "<style scoped>\n",
              "    .dataframe tbody tr th:only-of-type {\n",
              "        vertical-align: middle;\n",
              "    }\n",
              "\n",
              "    .dataframe tbody tr th {\n",
              "        vertical-align: top;\n",
              "    }\n",
              "\n",
              "    .dataframe thead th {\n",
              "        text-align: right;\n",
              "    }\n",
              "</style>\n",
              "<table border=\"1\" class=\"dataframe\">\n",
              "  <thead>\n",
              "    <tr style=\"text-align: right;\">\n",
              "      <th></th>\n",
              "      <th>date</th>\n",
              "      <th>type</th>\n",
              "      <th>country</th>\n",
              "      <th>activity</th>\n",
              "      <th>sex</th>\n",
              "      <th>age</th>\n",
              "      <th>fatal_y/n</th>\n",
              "      <th>species</th>\n",
              "      <th>activity_group</th>\n",
              "      <th>species_group</th>\n",
              "    </tr>\n",
              "  </thead>\n",
              "  <tbody>\n",
              "    <tr>\n",
              "      <th>0</th>\n",
              "      <td>1992-08-17</td>\n",
              "      <td>unprovoked</td>\n",
              "      <td>australia</td>\n",
              "      <td>fishing/swimming</td>\n",
              "      <td>Male</td>\n",
              "      <td>14</td>\n",
              "      <td>N</td>\n",
              "      <td>tiger shark or bull shark</td>\n",
              "      <td>fishing</td>\n",
              "      <td>tiger shark</td>\n",
              "    </tr>\n",
              "    <tr>\n",
              "      <th>1</th>\n",
              "      <td>1992-08-17</td>\n",
              "      <td>unprovoked</td>\n",
              "      <td>australia</td>\n",
              "      <td>surfing</td>\n",
              "      <td>Male</td>\n",
              "      <td>50+</td>\n",
              "      <td>N</td>\n",
              "      <td>bronze whaler</td>\n",
              "      <td>surfing</td>\n",
              "      <td>other shark</td>\n",
              "    </tr>\n",
              "    <tr>\n",
              "      <th>2</th>\n",
              "      <td>1992-08-17</td>\n",
              "      <td>unprovoked</td>\n",
              "      <td>usa</td>\n",
              "      <td>swimming</td>\n",
              "      <td>Male</td>\n",
              "      <td>54</td>\n",
              "      <td>N</td>\n",
              "      <td>unknown</td>\n",
              "      <td>swimming</td>\n",
              "      <td>unknown</td>\n",
              "    </tr>\n",
              "    <tr>\n",
              "      <th>3</th>\n",
              "      <td>1992-08-17</td>\n",
              "      <td>provoked</td>\n",
              "      <td>unknown</td>\n",
              "      <td>diving-tagging sharks</td>\n",
              "      <td>Male</td>\n",
              "      <td>48</td>\n",
              "      <td>N</td>\n",
              "      <td>tiger shark shark m</td>\n",
              "      <td>diving</td>\n",
              "      <td>tiger shark</td>\n",
              "    </tr>\n",
              "    <tr>\n",
              "      <th>4</th>\n",
              "      <td>1992-08-17</td>\n",
              "      <td>unprovoked</td>\n",
              "      <td>australia</td>\n",
              "      <td>surfing</td>\n",
              "      <td>Male</td>\n",
              "      <td>57</td>\n",
              "      <td>Y</td>\n",
              "      <td>great great white shark shark</td>\n",
              "      <td>surfing</td>\n",
              "      <td>great white shark</td>\n",
              "    </tr>\n",
              "  </tbody>\n",
              "</table>\n",
              "</div>"
            ],
            "text/plain": [
              "         date        type    country               activity   sex  age  \\\n",
              "0  1992-08-17  unprovoked  australia       fishing/swimming  Male   14   \n",
              "1  1992-08-17  unprovoked  australia                surfing  Male  50+   \n",
              "2  1992-08-17  unprovoked        usa               swimming  Male   54   \n",
              "3  1992-08-17    provoked    unknown  diving-tagging sharks  Male   48   \n",
              "4  1992-08-17  unprovoked  australia                surfing  Male   57   \n",
              "\n",
              "  fatal_y/n                        species activity_group      species_group  \n",
              "0         N      tiger shark or bull shark        fishing        tiger shark  \n",
              "1         N                  bronze whaler        surfing        other shark  \n",
              "2         N                        unknown       swimming            unknown  \n",
              "3         N            tiger shark shark m         diving        tiger shark  \n",
              "4         Y  great great white shark shark        surfing  great white shark  "
            ]
          },
          "execution_count": 652,
          "metadata": {},
          "output_type": "execute_result"
        }
      ],
      "source": [
        "df.head()"
      ]
    },
    {
      "cell_type": "code",
      "execution_count": 653,
      "metadata": {},
      "outputs": [],
      "source": [
        "if \"species\" in df.columns:\n",
        "    df.drop(columns=[\"species\"], inplace=True)"
      ]
    },
    {
      "cell_type": "code",
      "execution_count": 654,
      "metadata": {},
      "outputs": [],
      "source": [
        "df[\"age\"] = pd.to_numeric(df[\"age\"], errors=\"coerce\")"
      ]
    },
    {
      "cell_type": "code",
      "execution_count": 655,
      "metadata": {},
      "outputs": [],
      "source": [
        "df = df.dropna(subset=[\"age\"])"
      ]
    },
    {
      "cell_type": "code",
      "execution_count": 656,
      "metadata": {},
      "outputs": [
        {
          "data": {
            "text/plain": [
              "82"
            ]
          },
          "execution_count": 656,
          "metadata": {},
          "output_type": "execute_result"
        }
      ],
      "source": [
        "df[\"age\"].nunique()"
      ]
    },
    {
      "cell_type": "code",
      "execution_count": 657,
      "metadata": {},
      "outputs": [],
      "source": [
        "df[\"age\"]= df[\"age\"].astype(int)"
      ]
    },
    {
      "cell_type": "code",
      "execution_count": 658,
      "metadata": {},
      "outputs": [
        {
          "data": {
            "text/plain": [
              "age\n",
              "17    174\n",
              "18    159\n",
              "15    157\n",
              "20    156\n",
              "19    152\n",
              "     ... \n",
              "85      1\n",
              "86      1\n",
              "84      1\n",
              "87      1\n",
              "81      1\n",
              "Name: count, Length: 82, dtype: int64"
            ]
          },
          "execution_count": 658,
          "metadata": {},
          "output_type": "execute_result"
        }
      ],
      "source": [
        "df[\"age\"].value_counts()"
      ]
    },
    {
      "cell_type": "code",
      "execution_count": 659,
      "metadata": {},
      "outputs": [
        {
          "data": {
            "text/html": [
              "<div>\n",
              "<style scoped>\n",
              "    .dataframe tbody tr th:only-of-type {\n",
              "        vertical-align: middle;\n",
              "    }\n",
              "\n",
              "    .dataframe tbody tr th {\n",
              "        vertical-align: top;\n",
              "    }\n",
              "\n",
              "    .dataframe thead th {\n",
              "        text-align: right;\n",
              "    }\n",
              "</style>\n",
              "<table border=\"1\" class=\"dataframe\">\n",
              "  <thead>\n",
              "    <tr style=\"text-align: right;\">\n",
              "      <th></th>\n",
              "      <th>date</th>\n",
              "      <th>type</th>\n",
              "      <th>country</th>\n",
              "      <th>activity</th>\n",
              "      <th>sex</th>\n",
              "      <th>age</th>\n",
              "      <th>fatal_y/n</th>\n",
              "      <th>activity_group</th>\n",
              "      <th>species_group</th>\n",
              "    </tr>\n",
              "  </thead>\n",
              "  <tbody>\n",
              "    <tr>\n",
              "      <th>0</th>\n",
              "      <td>1992-08-17</td>\n",
              "      <td>unprovoked</td>\n",
              "      <td>australia</td>\n",
              "      <td>fishing/swimming</td>\n",
              "      <td>Male</td>\n",
              "      <td>14</td>\n",
              "      <td>N</td>\n",
              "      <td>fishing</td>\n",
              "      <td>tiger shark</td>\n",
              "    </tr>\n",
              "    <tr>\n",
              "      <th>2</th>\n",
              "      <td>1992-08-17</td>\n",
              "      <td>unprovoked</td>\n",
              "      <td>usa</td>\n",
              "      <td>swimming</td>\n",
              "      <td>Male</td>\n",
              "      <td>54</td>\n",
              "      <td>N</td>\n",
              "      <td>swimming</td>\n",
              "      <td>unknown</td>\n",
              "    </tr>\n",
              "    <tr>\n",
              "      <th>3</th>\n",
              "      <td>1992-08-17</td>\n",
              "      <td>provoked</td>\n",
              "      <td>unknown</td>\n",
              "      <td>diving-tagging sharks</td>\n",
              "      <td>Male</td>\n",
              "      <td>48</td>\n",
              "      <td>N</td>\n",
              "      <td>diving</td>\n",
              "      <td>tiger shark</td>\n",
              "    </tr>\n",
              "    <tr>\n",
              "      <th>4</th>\n",
              "      <td>1992-08-17</td>\n",
              "      <td>unprovoked</td>\n",
              "      <td>australia</td>\n",
              "      <td>surfing</td>\n",
              "      <td>Male</td>\n",
              "      <td>57</td>\n",
              "      <td>Y</td>\n",
              "      <td>surfing</td>\n",
              "      <td>great white shark</td>\n",
              "    </tr>\n",
              "    <tr>\n",
              "      <th>5</th>\n",
              "      <td>1992-08-17</td>\n",
              "      <td>unprovoked</td>\n",
              "      <td>usa</td>\n",
              "      <td>snorkeling</td>\n",
              "      <td>Male</td>\n",
              "      <td>8</td>\n",
              "      <td>N</td>\n",
              "      <td>swimming</td>\n",
              "      <td>other shark</td>\n",
              "    </tr>\n",
              "  </tbody>\n",
              "</table>\n",
              "</div>"
            ],
            "text/plain": [
              "         date        type    country               activity   sex  age  \\\n",
              "0  1992-08-17  unprovoked  australia       fishing/swimming  Male   14   \n",
              "2  1992-08-17  unprovoked        usa               swimming  Male   54   \n",
              "3  1992-08-17    provoked    unknown  diving-tagging sharks  Male   48   \n",
              "4  1992-08-17  unprovoked  australia                surfing  Male   57   \n",
              "5  1992-08-17  unprovoked        usa             snorkeling  Male    8   \n",
              "\n",
              "  fatal_y/n activity_group      species_group  \n",
              "0         N        fishing        tiger shark  \n",
              "2         N       swimming            unknown  \n",
              "3         N         diving        tiger shark  \n",
              "4         Y        surfing  great white shark  \n",
              "5         N       swimming        other shark  "
            ]
          },
          "execution_count": 659,
          "metadata": {},
          "output_type": "execute_result"
        }
      ],
      "source": [
        "df.head()"
      ]
    },
    {
      "cell_type": "markdown",
      "metadata": {},
      "source": [
        "**AGRUPACIONES. **"
      ]
    },
    {
      "cell_type": "code",
      "execution_count": 660,
      "metadata": {},
      "outputs": [
        {
          "data": {
            "text/html": [
              "<div>\n",
              "<style scoped>\n",
              "    .dataframe tbody tr th:only-of-type {\n",
              "        vertical-align: middle;\n",
              "    }\n",
              "\n",
              "    .dataframe tbody tr th {\n",
              "        vertical-align: top;\n",
              "    }\n",
              "\n",
              "    .dataframe thead th {\n",
              "        text-align: right;\n",
              "    }\n",
              "</style>\n",
              "<table border=\"1\" class=\"dataframe\">\n",
              "  <thead>\n",
              "    <tr style=\"text-align: right;\">\n",
              "      <th></th>\n",
              "      <th>No Fatal (N)</th>\n",
              "      <th>Fatal (Y)</th>\n",
              "      <th>Total</th>\n",
              "      <th>Tasa Fatalidad (%)</th>\n",
              "    </tr>\n",
              "    <tr>\n",
              "      <th>activity_group</th>\n",
              "      <th></th>\n",
              "      <th></th>\n",
              "      <th></th>\n",
              "      <th></th>\n",
              "    </tr>\n",
              "  </thead>\n",
              "  <tbody>\n",
              "    <tr>\n",
              "      <th>Other</th>\n",
              "      <td>694</td>\n",
              "      <td>232</td>\n",
              "      <td>926</td>\n",
              "      <td>25.05</td>\n",
              "    </tr>\n",
              "    <tr>\n",
              "      <th>adventure challenges</th>\n",
              "      <td>83</td>\n",
              "      <td>24</td>\n",
              "      <td>107</td>\n",
              "      <td>22.43</td>\n",
              "    </tr>\n",
              "    <tr>\n",
              "      <th>boating</th>\n",
              "      <td>154</td>\n",
              "      <td>37</td>\n",
              "      <td>191</td>\n",
              "      <td>19.37</td>\n",
              "    </tr>\n",
              "    <tr>\n",
              "      <th>diving</th>\n",
              "      <td>411</td>\n",
              "      <td>72</td>\n",
              "      <td>483</td>\n",
              "      <td>14.91</td>\n",
              "    </tr>\n",
              "    <tr>\n",
              "      <th>swimming</th>\n",
              "      <td>874</td>\n",
              "      <td>134</td>\n",
              "      <td>1008</td>\n",
              "      <td>13.29</td>\n",
              "    </tr>\n",
              "    <tr>\n",
              "      <th>floating</th>\n",
              "      <td>81</td>\n",
              "      <td>6</td>\n",
              "      <td>87</td>\n",
              "      <td>6.90</td>\n",
              "    </tr>\n",
              "    <tr>\n",
              "      <th>fishing</th>\n",
              "      <td>992</td>\n",
              "      <td>67</td>\n",
              "      <td>1059</td>\n",
              "      <td>6.33</td>\n",
              "    </tr>\n",
              "    <tr>\n",
              "      <th>shore</th>\n",
              "      <td>62</td>\n",
              "      <td>4</td>\n",
              "      <td>66</td>\n",
              "      <td>6.06</td>\n",
              "    </tr>\n",
              "    <tr>\n",
              "      <th>surfing</th>\n",
              "      <td>1377</td>\n",
              "      <td>61</td>\n",
              "      <td>1438</td>\n",
              "      <td>4.24</td>\n",
              "    </tr>\n",
              "    <tr>\n",
              "      <th>feeding</th>\n",
              "      <td>25</td>\n",
              "      <td>1</td>\n",
              "      <td>26</td>\n",
              "      <td>3.85</td>\n",
              "    </tr>\n",
              "    <tr>\n",
              "      <th>wading</th>\n",
              "      <td>151</td>\n",
              "      <td>3</td>\n",
              "      <td>154</td>\n",
              "      <td>1.95</td>\n",
              "    </tr>\n",
              "  </tbody>\n",
              "</table>\n",
              "</div>"
            ],
            "text/plain": [
              "                      No Fatal (N)  Fatal (Y)  Total  Tasa Fatalidad (%)\n",
              "activity_group                                                          \n",
              "Other                          694        232    926               25.05\n",
              "adventure challenges            83         24    107               22.43\n",
              "boating                        154         37    191               19.37\n",
              "diving                         411         72    483               14.91\n",
              "swimming                       874        134   1008               13.29\n",
              "floating                        81          6     87                6.90\n",
              "fishing                        992         67   1059                6.33\n",
              "shore                           62          4     66                6.06\n",
              "surfing                       1377         61   1438                4.24\n",
              "feeding                         25          1     26                3.85\n",
              "wading                         151          3    154                1.95"
            ]
          },
          "execution_count": 660,
          "metadata": {},
          "output_type": "execute_result"
        }
      ],
      "source": [
        "df_clean = df_fatalidad_por_actividad.drop(columns=['Unknown'])\n",
        "df_clean = df_fatalidad_por_actividad.drop('Unknown', axis=1)\n",
        "df_clean"
      ]
    },
    {
      "cell_type": "code",
      "execution_count": null,
      "metadata": {},
      "outputs": [
        {
          "name": "stderr",
          "output_type": "stream",
          "text": [
            "/var/folders/jv/lpcmj8m91yggsl2fvg3tnx2w0000gn/T/ipykernel_15542/733961417.py:1: FutureWarning: The default of observed=False is deprecated and will be changed to True in a future version of pandas. Pass observed=False to retain current behavior or observed=True to adopt the future default and silence this warning.\n",
            "  df_fatalidad_por_pais = df.groupby(['country', 'fatal_y/n']).size().unstack(fill_value=0)\n"
          ]
        }
      ],
      "source": [
        "df_fatalidad_por_pais = df.groupby(['country', 'fatal_y/n']).size().unstack(fill_value=0)\n",
        "\n",
        "df_fatalidad_por_pais.columns.name = None\n",
        "df_fatalidad_por_pais.columns = ['No Fatal (N)', 'Fatal (Y)', 'Unknown']"
      ]
    },
    {
      "cell_type": "code",
      "execution_count": 667,
      "metadata": {},
      "outputs": [],
      "source": [
        "df_fatalidad_por_pais['Total'] = df_fatalidad_por_pais['No Fatal (N)'] + df_fatalidad_por_pais['Fatal (Y)']"
      ]
    },
    {
      "cell_type": "code",
      "execution_count": 668,
      "metadata": {},
      "outputs": [],
      "source": [
        "df_fatalidad_por_pais['Tasa Fatalidad (%)'] = (df_fatalidad_por_pais['Fatal (Y)'] / df_fatalidad_por_pais['Total']) * 100\n",
        "df_fatalidad_por_pais['Tasa Fatalidad (%)'] = df_fatalidad_por_pais['Tasa Fatalidad (%)'].round(2)\n",
        "df_fatalidad_por_pais = df_fatalidad_por_pais.sort_values(by='Tasa Fatalidad (%)', ascending=False)"
      ]
    },
    {
      "cell_type": "code",
      "execution_count": 669,
      "metadata": {},
      "outputs": [
        {
          "data": {
            "text/html": [
              "<div>\n",
              "<style scoped>\n",
              "    .dataframe tbody tr th:only-of-type {\n",
              "        vertical-align: middle;\n",
              "    }\n",
              "\n",
              "    .dataframe tbody tr th {\n",
              "        vertical-align: top;\n",
              "    }\n",
              "\n",
              "    .dataframe thead th {\n",
              "        text-align: right;\n",
              "    }\n",
              "</style>\n",
              "<table border=\"1\" class=\"dataframe\">\n",
              "  <thead>\n",
              "    <tr style=\"text-align: right;\">\n",
              "      <th></th>\n",
              "      <th>No Fatal (N)</th>\n",
              "      <th>Fatal (Y)</th>\n",
              "      <th>Total</th>\n",
              "      <th>Tasa Fatalidad (%)</th>\n",
              "    </tr>\n",
              "    <tr>\n",
              "      <th>country</th>\n",
              "      <th></th>\n",
              "      <th></th>\n",
              "      <th></th>\n",
              "      <th></th>\n",
              "    </tr>\n",
              "  </thead>\n",
              "  <tbody>\n",
              "    <tr>\n",
              "      <th>italy</th>\n",
              "      <td>12</td>\n",
              "      <td>7</td>\n",
              "      <td>19</td>\n",
              "      <td>36.84</td>\n",
              "    </tr>\n",
              "    <tr>\n",
              "      <th>mexico</th>\n",
              "      <td>26</td>\n",
              "      <td>5</td>\n",
              "      <td>31</td>\n",
              "      <td>16.13</td>\n",
              "    </tr>\n",
              "    <tr>\n",
              "      <th>brazil</th>\n",
              "      <td>45</td>\n",
              "      <td>8</td>\n",
              "      <td>53</td>\n",
              "      <td>15.09</td>\n",
              "    </tr>\n",
              "    <tr>\n",
              "      <th>unknown</th>\n",
              "      <td>109</td>\n",
              "      <td>14</td>\n",
              "      <td>123</td>\n",
              "      <td>11.38</td>\n",
              "    </tr>\n",
              "    <tr>\n",
              "      <th>australia</th>\n",
              "      <td>562</td>\n",
              "      <td>61</td>\n",
              "      <td>623</td>\n",
              "      <td>9.79</td>\n",
              "    </tr>\n",
              "    <tr>\n",
              "      <th>rest of the world</th>\n",
              "      <td>264</td>\n",
              "      <td>25</td>\n",
              "      <td>289</td>\n",
              "      <td>8.65</td>\n",
              "    </tr>\n",
              "    <tr>\n",
              "      <th>south africa</th>\n",
              "      <td>270</td>\n",
              "      <td>25</td>\n",
              "      <td>295</td>\n",
              "      <td>8.47</td>\n",
              "    </tr>\n",
              "    <tr>\n",
              "      <th>papua new guinea</th>\n",
              "      <td>23</td>\n",
              "      <td>2</td>\n",
              "      <td>25</td>\n",
              "      <td>8.00</td>\n",
              "    </tr>\n",
              "    <tr>\n",
              "      <th>bahamas</th>\n",
              "      <td>73</td>\n",
              "      <td>5</td>\n",
              "      <td>78</td>\n",
              "      <td>6.41</td>\n",
              "    </tr>\n",
              "    <tr>\n",
              "      <th>usa</th>\n",
              "      <td>1532</td>\n",
              "      <td>90</td>\n",
              "      <td>1622</td>\n",
              "      <td>5.55</td>\n",
              "    </tr>\n",
              "    <tr>\n",
              "      <th>new zealand</th>\n",
              "      <td>46</td>\n",
              "      <td>1</td>\n",
              "      <td>47</td>\n",
              "      <td>2.13</td>\n",
              "    </tr>\n",
              "    <tr>\n",
              "      <th>fiji</th>\n",
              "      <td>23</td>\n",
              "      <td>0</td>\n",
              "      <td>23</td>\n",
              "      <td>0.00</td>\n",
              "    </tr>\n",
              "  </tbody>\n",
              "</table>\n",
              "</div>"
            ],
            "text/plain": [
              "                   No Fatal (N)  Fatal (Y)  Total  Tasa Fatalidad (%)\n",
              "country                                                              \n",
              "italy                        12          7     19               36.84\n",
              "mexico                       26          5     31               16.13\n",
              "brazil                       45          8     53               15.09\n",
              "unknown                     109         14    123               11.38\n",
              "australia                   562         61    623                9.79\n",
              "rest of the world           264         25    289                8.65\n",
              "south africa                270         25    295                8.47\n",
              "papua new guinea             23          2     25                8.00\n",
              "bahamas                      73          5     78                6.41\n",
              "usa                        1532         90   1622                5.55\n",
              "new zealand                  46          1     47                2.13\n",
              "fiji                         23          0     23                0.00"
            ]
          },
          "execution_count": 669,
          "metadata": {},
          "output_type": "execute_result"
        }
      ],
      "source": [
        "df_clean_1 = df_fatalidad_por_pais.drop(columns=['Unknown'])\n",
        "df_clean_1 = df_fatalidad_por_pais.drop('Unknown', axis=1)\n",
        "df_clean_1"
      ]
    },
    {
      "cell_type": "code",
      "execution_count": 670,
      "metadata": {},
      "outputs": [
        {
          "name": "stderr",
          "output_type": "stream",
          "text": [
            "/var/folders/jv/lpcmj8m91yggsl2fvg3tnx2w0000gn/T/ipykernel_15542/1090916488.py:1: FutureWarning: The default of observed=False is deprecated and will be changed to True in a future version of pandas. Pass observed=False to retain current behavior or observed=True to adopt the future default and silence this warning.\n",
            "  df_actividad_por_pais = df.groupby(['country', 'activity_group']).size().unstack(fill_value=0)\n"
          ]
        },
        {
          "data": {
            "text/html": [
              "<div>\n",
              "<style scoped>\n",
              "    .dataframe tbody tr th:only-of-type {\n",
              "        vertical-align: middle;\n",
              "    }\n",
              "\n",
              "    .dataframe tbody tr th {\n",
              "        vertical-align: top;\n",
              "    }\n",
              "\n",
              "    .dataframe thead th {\n",
              "        text-align: right;\n",
              "    }\n",
              "</style>\n",
              "<table border=\"1\" class=\"dataframe\">\n",
              "  <thead>\n",
              "    <tr style=\"text-align: right;\">\n",
              "      <th>activity_group</th>\n",
              "      <th>Other</th>\n",
              "      <th>adventure challenges</th>\n",
              "      <th>boating</th>\n",
              "      <th>diving</th>\n",
              "      <th>feeding</th>\n",
              "      <th>fishing</th>\n",
              "      <th>floating</th>\n",
              "      <th>shore</th>\n",
              "      <th>surfing</th>\n",
              "      <th>swimming</th>\n",
              "      <th>wading</th>\n",
              "    </tr>\n",
              "    <tr>\n",
              "      <th>country</th>\n",
              "      <th></th>\n",
              "      <th></th>\n",
              "      <th></th>\n",
              "      <th></th>\n",
              "      <th></th>\n",
              "      <th></th>\n",
              "      <th></th>\n",
              "      <th></th>\n",
              "      <th></th>\n",
              "      <th></th>\n",
              "      <th></th>\n",
              "    </tr>\n",
              "  </thead>\n",
              "  <tbody>\n",
              "    <tr>\n",
              "      <th>australia</th>\n",
              "      <td>68</td>\n",
              "      <td>19</td>\n",
              "      <td>20</td>\n",
              "      <td>91</td>\n",
              "      <td>9</td>\n",
              "      <td>123</td>\n",
              "      <td>13</td>\n",
              "      <td>3</td>\n",
              "      <td>242</td>\n",
              "      <td>221</td>\n",
              "      <td>17</td>\n",
              "    </tr>\n",
              "    <tr>\n",
              "      <th>bahamas</th>\n",
              "      <td>7</td>\n",
              "      <td>1</td>\n",
              "      <td>2</td>\n",
              "      <td>16</td>\n",
              "      <td>0</td>\n",
              "      <td>37</td>\n",
              "      <td>2</td>\n",
              "      <td>0</td>\n",
              "      <td>1</td>\n",
              "      <td>16</td>\n",
              "      <td>3</td>\n",
              "    </tr>\n",
              "    <tr>\n",
              "      <th>brazil</th>\n",
              "      <td>10</td>\n",
              "      <td>0</td>\n",
              "      <td>0</td>\n",
              "      <td>1</td>\n",
              "      <td>0</td>\n",
              "      <td>7</td>\n",
              "      <td>1</td>\n",
              "      <td>1</td>\n",
              "      <td>27</td>\n",
              "      <td>26</td>\n",
              "      <td>0</td>\n",
              "    </tr>\n",
              "    <tr>\n",
              "      <th>fiji</th>\n",
              "      <td>5</td>\n",
              "      <td>0</td>\n",
              "      <td>3</td>\n",
              "      <td>7</td>\n",
              "      <td>0</td>\n",
              "      <td>13</td>\n",
              "      <td>0</td>\n",
              "      <td>0</td>\n",
              "      <td>2</td>\n",
              "      <td>3</td>\n",
              "      <td>0</td>\n",
              "    </tr>\n",
              "    <tr>\n",
              "      <th>italy</th>\n",
              "      <td>5</td>\n",
              "      <td>0</td>\n",
              "      <td>1</td>\n",
              "      <td>4</td>\n",
              "      <td>0</td>\n",
              "      <td>7</td>\n",
              "      <td>0</td>\n",
              "      <td>1</td>\n",
              "      <td>0</td>\n",
              "      <td>6</td>\n",
              "      <td>0</td>\n",
              "    </tr>\n",
              "    <tr>\n",
              "      <th>mexico</th>\n",
              "      <td>6</td>\n",
              "      <td>0</td>\n",
              "      <td>0</td>\n",
              "      <td>12</td>\n",
              "      <td>0</td>\n",
              "      <td>3</td>\n",
              "      <td>1</td>\n",
              "      <td>0</td>\n",
              "      <td>9</td>\n",
              "      <td>20</td>\n",
              "      <td>0</td>\n",
              "    </tr>\n",
              "    <tr>\n",
              "      <th>new zealand</th>\n",
              "      <td>2</td>\n",
              "      <td>1</td>\n",
              "      <td>3</td>\n",
              "      <td>6</td>\n",
              "      <td>0</td>\n",
              "      <td>15</td>\n",
              "      <td>1</td>\n",
              "      <td>0</td>\n",
              "      <td>16</td>\n",
              "      <td>14</td>\n",
              "      <td>3</td>\n",
              "    </tr>\n",
              "    <tr>\n",
              "      <th>papua new guinea</th>\n",
              "      <td>7</td>\n",
              "      <td>2</td>\n",
              "      <td>3</td>\n",
              "      <td>4</td>\n",
              "      <td>0</td>\n",
              "      <td>16</td>\n",
              "      <td>0</td>\n",
              "      <td>0</td>\n",
              "      <td>1</td>\n",
              "      <td>10</td>\n",
              "      <td>3</td>\n",
              "    </tr>\n",
              "    <tr>\n",
              "      <th>rest of the world</th>\n",
              "      <td>51</td>\n",
              "      <td>11</td>\n",
              "      <td>13</td>\n",
              "      <td>43</td>\n",
              "      <td>3</td>\n",
              "      <td>76</td>\n",
              "      <td>4</td>\n",
              "      <td>5</td>\n",
              "      <td>61</td>\n",
              "      <td>167</td>\n",
              "      <td>8</td>\n",
              "    </tr>\n",
              "    <tr>\n",
              "      <th>south africa</th>\n",
              "      <td>28</td>\n",
              "      <td>1</td>\n",
              "      <td>2</td>\n",
              "      <td>22</td>\n",
              "      <td>0</td>\n",
              "      <td>67</td>\n",
              "      <td>21</td>\n",
              "      <td>2</td>\n",
              "      <td>131</td>\n",
              "      <td>81</td>\n",
              "      <td>15</td>\n",
              "    </tr>\n",
              "    <tr>\n",
              "      <th>unknown</th>\n",
              "      <td>25</td>\n",
              "      <td>9</td>\n",
              "      <td>6</td>\n",
              "      <td>31</td>\n",
              "      <td>3</td>\n",
              "      <td>43</td>\n",
              "      <td>4</td>\n",
              "      <td>1</td>\n",
              "      <td>16</td>\n",
              "      <td>43</td>\n",
              "      <td>3</td>\n",
              "    </tr>\n",
              "    <tr>\n",
              "      <th>usa</th>\n",
              "      <td>225</td>\n",
              "      <td>16</td>\n",
              "      <td>41</td>\n",
              "      <td>101</td>\n",
              "      <td>3</td>\n",
              "      <td>135</td>\n",
              "      <td>35</td>\n",
              "      <td>44</td>\n",
              "      <td>693</td>\n",
              "      <td>342</td>\n",
              "      <td>77</td>\n",
              "    </tr>\n",
              "  </tbody>\n",
              "</table>\n",
              "</div>"
            ],
            "text/plain": [
              "activity_group     Other  adventure challenges  boating  diving  feeding  \\\n",
              "country                                                                    \n",
              "australia             68                    19       20      91        9   \n",
              "bahamas                7                     1        2      16        0   \n",
              "brazil                10                     0        0       1        0   \n",
              "fiji                   5                     0        3       7        0   \n",
              "italy                  5                     0        1       4        0   \n",
              "mexico                 6                     0        0      12        0   \n",
              "new zealand            2                     1        3       6        0   \n",
              "papua new guinea       7                     2        3       4        0   \n",
              "rest of the world     51                    11       13      43        3   \n",
              "south africa          28                     1        2      22        0   \n",
              "unknown               25                     9        6      31        3   \n",
              "usa                  225                    16       41     101        3   \n",
              "\n",
              "activity_group     fishing  floating  shore  surfing  swimming  wading  \n",
              "country                                                                 \n",
              "australia              123        13      3      242       221      17  \n",
              "bahamas                 37         2      0        1        16       3  \n",
              "brazil                   7         1      1       27        26       0  \n",
              "fiji                    13         0      0        2         3       0  \n",
              "italy                    7         0      1        0         6       0  \n",
              "mexico                   3         1      0        9        20       0  \n",
              "new zealand             15         1      0       16        14       3  \n",
              "papua new guinea        16         0      0        1        10       3  \n",
              "rest of the world       76         4      5       61       167       8  \n",
              "south africa            67        21      2      131        81      15  \n",
              "unknown                 43         4      1       16        43       3  \n",
              "usa                    135        35     44      693       342      77  "
            ]
          },
          "execution_count": 670,
          "metadata": {},
          "output_type": "execute_result"
        }
      ],
      "source": [
        "df_actividad_por_pais = df.groupby(['country', 'activity_group']).size().unstack(fill_value=0)\n",
        "\n",
        "df_actividad_por_pais"
      ]
    },
    {
      "cell_type": "code",
      "execution_count": 663,
      "metadata": {},
      "outputs": [
        {
          "name": "stdout",
          "output_type": "stream",
          "text": [
            "              country  encuentros\n",
            "11                usa        1712\n",
            "0           australia         826\n",
            "8   rest of the world         442\n",
            "9        south africa         370\n",
            "10            unknown         184\n",
            "1             bahamas          85\n",
            "2              brazil          73\n",
            "6         new zealand          61\n",
            "5              mexico          51\n",
            "7    papua new guinea          46\n",
            "3                fiji          33\n",
            "4               italy          24\n"
          ]
        },
        {
          "name": "stderr",
          "output_type": "stream",
          "text": [
            "/var/folders/jv/lpcmj8m91yggsl2fvg3tnx2w0000gn/T/ipykernel_15542/3681126791.py:2: FutureWarning: The default of observed=False is deprecated and will be changed to True in a future version of pandas. Pass observed=False to retain current behavior or observed=True to adopt the future default and silence this warning.\n",
            "  tabla_actividad = df.groupby(\"country\").size().reset_index(name=\"encuentros\")\n"
          ]
        }
      ],
      "source": [
        "# Agrupar por actividad y contar el número de registros\n",
        "tabla_actividad = df.groupby(\"country\").size().reset_index(name=\"encuentros\")\n",
        "\n",
        "# Ordenar de mayor a menor número de encuentros\n",
        "tabla_actividad = tabla_actividad.sort_values(\"encuentros\", ascending=False)\n",
        "\n",
        "# Mostrar la tabla\n",
        "print(tabla_actividad)"
      ]
    },
    {
      "cell_type": "code",
      "execution_count": null,
      "metadata": {},
      "outputs": [],
      "source": []
    }
  ],
  "metadata": {
    "colab": {
      "provenance": []
    },
    "kernelspec": {
      "display_name": "base",
      "language": "python",
      "name": "python3"
    },
    "language_info": {
      "codemirror_mode": {
        "name": "ipython",
        "version": 3
      },
      "file_extension": ".py",
      "mimetype": "text/x-python",
      "name": "python",
      "nbconvert_exporter": "python",
      "pygments_lexer": "ipython3",
      "version": "3.13.5"
    }
  },
  "nbformat": 4,
  "nbformat_minor": 0
}
